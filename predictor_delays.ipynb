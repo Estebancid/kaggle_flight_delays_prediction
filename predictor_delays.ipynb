{
 "cells": [
  {
   "cell_type": "code",
   "execution_count": 205,
   "metadata": {},
   "outputs": [],
   "source": [
    "# Tratamiento de datos\n",
    "# ==============================================================================\n",
    "import numpy as np\n",
    "import pandas as pd\n",
    "import statsmodels.api as sm\n",
    "\n",
    "# Gráficos\n",
    "# ==============================================================================\n",
    "import matplotlib.pyplot as plt\n",
    "import seaborn as sns\n",
    "\n",
    "# Configuración warnings\n",
    "# ==============================================================================\n",
    "import warnings\n",
    "warnings.filterwarnings('ignore')\n",
    "\n",
    "# Machine learning supervisado\n",
    "# ==============================================================================\n",
    "from sklearn.model_selection import GridSearchCV, RandomizedSearchCV\n",
    "from sklearn.preprocessing import StandardScaler, MinMaxScaler\n",
    "from sklearn.model_selection import train_test_split \n",
    "from sklearn.pipeline import Pipeline\n",
    "from sklearn.ensemble import RandomForestClassifier\n",
    "from sklearn.model_selection import RandomizedSearchCV\n",
    "from sklearn.metrics import roc_auc_score, make_scorer\n",
    "import xgboost\n",
    "\n",
    "# Transformación logarítmica\n",
    "# ==============================================================================\n",
    "from sklearn.compose import ColumnTransformer\n",
    "from sklearn.preprocessing import FunctionTransformer\n",
    "\n",
    "# Guardar modelos\n",
    "# ==============================================================================\n",
    "import pickle"
   ]
  },
  {
   "cell_type": "code",
   "execution_count": 206,
   "metadata": {},
   "outputs": [
    {
     "data": {
      "application/vnd.microsoft.datawrangler.viewer.v0+json": {
       "columns": [
        {
         "name": "index",
         "rawType": "int64",
         "type": "integer"
        },
        {
         "name": "Month",
         "rawType": "object",
         "type": "string"
        },
        {
         "name": "DayofMonth",
         "rawType": "object",
         "type": "string"
        },
        {
         "name": "DayOfWeek",
         "rawType": "object",
         "type": "string"
        },
        {
         "name": "DepTime",
         "rawType": "int64",
         "type": "integer"
        },
        {
         "name": "UniqueCarrier",
         "rawType": "object",
         "type": "string"
        },
        {
         "name": "Origin",
         "rawType": "object",
         "type": "string"
        },
        {
         "name": "Dest",
         "rawType": "object",
         "type": "string"
        },
        {
         "name": "Distance",
         "rawType": "int64",
         "type": "integer"
        },
        {
         "name": "dep_delayed_15min",
         "rawType": "object",
         "type": "string"
        }
       ],
       "conversionMethod": "pd.DataFrame",
       "ref": "4525842f-1095-40c2-a096-4ac6b647f106",
       "rows": [
        [
         "0",
         "c-8",
         "c-21",
         "c-7",
         "1934",
         "AA",
         "ATL",
         "DFW",
         "732",
         "N"
        ],
        [
         "1",
         "c-4",
         "c-20",
         "c-3",
         "1548",
         "US",
         "PIT",
         "MCO",
         "834",
         "N"
        ],
        [
         "2",
         "c-9",
         "c-2",
         "c-5",
         "1422",
         "XE",
         "RDU",
         "CLE",
         "416",
         "N"
        ],
        [
         "3",
         "c-11",
         "c-25",
         "c-6",
         "1015",
         "OO",
         "DEN",
         "MEM",
         "872",
         "N"
        ],
        [
         "4",
         "c-10",
         "c-7",
         "c-6",
         "1828",
         "WN",
         "MDW",
         "OMA",
         "423",
         "Y"
        ],
        [
         "5",
         "c-8",
         "c-3",
         "c-4",
         "1918",
         "NW",
         "MEM",
         "MCO",
         "683",
         "N"
        ],
        [
         "6",
         "c-1",
         "c-27",
         "c-4",
         "754",
         "DL",
         "PBI",
         "LGA",
         "1035",
         "N"
        ],
        [
         "7",
         "c-4",
         "c-29",
         "c-6",
         "635",
         "OH",
         "MSP",
         "CVG",
         "596",
         "N"
        ],
        [
         "8",
         "c-7",
         "c-28",
         "c-5",
         "735",
         "AA",
         "ONT",
         "DFW",
         "1189",
         "N"
        ],
        [
         "9",
         "c-6",
         "c-20",
         "c-2",
         "2029",
         "OO",
         "DEN",
         "PSC",
         "853",
         "N"
        ]
       ],
       "shape": {
        "columns": 9,
        "rows": 10
       }
      },
      "text/html": [
       "<div>\n",
       "<style scoped>\n",
       "    .dataframe tbody tr th:only-of-type {\n",
       "        vertical-align: middle;\n",
       "    }\n",
       "\n",
       "    .dataframe tbody tr th {\n",
       "        vertical-align: top;\n",
       "    }\n",
       "\n",
       "    .dataframe thead th {\n",
       "        text-align: right;\n",
       "    }\n",
       "</style>\n",
       "<table border=\"1\" class=\"dataframe\">\n",
       "  <thead>\n",
       "    <tr style=\"text-align: right;\">\n",
       "      <th></th>\n",
       "      <th>Month</th>\n",
       "      <th>DayofMonth</th>\n",
       "      <th>DayOfWeek</th>\n",
       "      <th>DepTime</th>\n",
       "      <th>UniqueCarrier</th>\n",
       "      <th>Origin</th>\n",
       "      <th>Dest</th>\n",
       "      <th>Distance</th>\n",
       "      <th>dep_delayed_15min</th>\n",
       "    </tr>\n",
       "  </thead>\n",
       "  <tbody>\n",
       "    <tr>\n",
       "      <th>0</th>\n",
       "      <td>c-8</td>\n",
       "      <td>c-21</td>\n",
       "      <td>c-7</td>\n",
       "      <td>1934</td>\n",
       "      <td>AA</td>\n",
       "      <td>ATL</td>\n",
       "      <td>DFW</td>\n",
       "      <td>732</td>\n",
       "      <td>N</td>\n",
       "    </tr>\n",
       "    <tr>\n",
       "      <th>1</th>\n",
       "      <td>c-4</td>\n",
       "      <td>c-20</td>\n",
       "      <td>c-3</td>\n",
       "      <td>1548</td>\n",
       "      <td>US</td>\n",
       "      <td>PIT</td>\n",
       "      <td>MCO</td>\n",
       "      <td>834</td>\n",
       "      <td>N</td>\n",
       "    </tr>\n",
       "    <tr>\n",
       "      <th>2</th>\n",
       "      <td>c-9</td>\n",
       "      <td>c-2</td>\n",
       "      <td>c-5</td>\n",
       "      <td>1422</td>\n",
       "      <td>XE</td>\n",
       "      <td>RDU</td>\n",
       "      <td>CLE</td>\n",
       "      <td>416</td>\n",
       "      <td>N</td>\n",
       "    </tr>\n",
       "    <tr>\n",
       "      <th>3</th>\n",
       "      <td>c-11</td>\n",
       "      <td>c-25</td>\n",
       "      <td>c-6</td>\n",
       "      <td>1015</td>\n",
       "      <td>OO</td>\n",
       "      <td>DEN</td>\n",
       "      <td>MEM</td>\n",
       "      <td>872</td>\n",
       "      <td>N</td>\n",
       "    </tr>\n",
       "    <tr>\n",
       "      <th>4</th>\n",
       "      <td>c-10</td>\n",
       "      <td>c-7</td>\n",
       "      <td>c-6</td>\n",
       "      <td>1828</td>\n",
       "      <td>WN</td>\n",
       "      <td>MDW</td>\n",
       "      <td>OMA</td>\n",
       "      <td>423</td>\n",
       "      <td>Y</td>\n",
       "    </tr>\n",
       "    <tr>\n",
       "      <th>5</th>\n",
       "      <td>c-8</td>\n",
       "      <td>c-3</td>\n",
       "      <td>c-4</td>\n",
       "      <td>1918</td>\n",
       "      <td>NW</td>\n",
       "      <td>MEM</td>\n",
       "      <td>MCO</td>\n",
       "      <td>683</td>\n",
       "      <td>N</td>\n",
       "    </tr>\n",
       "    <tr>\n",
       "      <th>6</th>\n",
       "      <td>c-1</td>\n",
       "      <td>c-27</td>\n",
       "      <td>c-4</td>\n",
       "      <td>754</td>\n",
       "      <td>DL</td>\n",
       "      <td>PBI</td>\n",
       "      <td>LGA</td>\n",
       "      <td>1035</td>\n",
       "      <td>N</td>\n",
       "    </tr>\n",
       "    <tr>\n",
       "      <th>7</th>\n",
       "      <td>c-4</td>\n",
       "      <td>c-29</td>\n",
       "      <td>c-6</td>\n",
       "      <td>635</td>\n",
       "      <td>OH</td>\n",
       "      <td>MSP</td>\n",
       "      <td>CVG</td>\n",
       "      <td>596</td>\n",
       "      <td>N</td>\n",
       "    </tr>\n",
       "    <tr>\n",
       "      <th>8</th>\n",
       "      <td>c-7</td>\n",
       "      <td>c-28</td>\n",
       "      <td>c-5</td>\n",
       "      <td>735</td>\n",
       "      <td>AA</td>\n",
       "      <td>ONT</td>\n",
       "      <td>DFW</td>\n",
       "      <td>1189</td>\n",
       "      <td>N</td>\n",
       "    </tr>\n",
       "    <tr>\n",
       "      <th>9</th>\n",
       "      <td>c-6</td>\n",
       "      <td>c-20</td>\n",
       "      <td>c-2</td>\n",
       "      <td>2029</td>\n",
       "      <td>OO</td>\n",
       "      <td>DEN</td>\n",
       "      <td>PSC</td>\n",
       "      <td>853</td>\n",
       "      <td>N</td>\n",
       "    </tr>\n",
       "  </tbody>\n",
       "</table>\n",
       "</div>"
      ],
      "text/plain": [
       "  Month DayofMonth DayOfWeek  DepTime UniqueCarrier Origin Dest  Distance  \\\n",
       "0   c-8       c-21       c-7     1934            AA    ATL  DFW       732   \n",
       "1   c-4       c-20       c-3     1548            US    PIT  MCO       834   \n",
       "2   c-9        c-2       c-5     1422            XE    RDU  CLE       416   \n",
       "3  c-11       c-25       c-6     1015            OO    DEN  MEM       872   \n",
       "4  c-10        c-7       c-6     1828            WN    MDW  OMA       423   \n",
       "5   c-8        c-3       c-4     1918            NW    MEM  MCO       683   \n",
       "6   c-1       c-27       c-4      754            DL    PBI  LGA      1035   \n",
       "7   c-4       c-29       c-6      635            OH    MSP  CVG       596   \n",
       "8   c-7       c-28       c-5      735            AA    ONT  DFW      1189   \n",
       "9   c-6       c-20       c-2     2029            OO    DEN  PSC       853   \n",
       "\n",
       "  dep_delayed_15min  \n",
       "0                 N  \n",
       "1                 N  \n",
       "2                 N  \n",
       "3                 N  \n",
       "4                 Y  \n",
       "5                 N  \n",
       "6                 N  \n",
       "7                 N  \n",
       "8                 N  \n",
       "9                 N  "
      ]
     },
     "execution_count": 206,
     "metadata": {},
     "output_type": "execute_result"
    }
   ],
   "source": [
    "df = pd.read_csv('./data/flight_delays_train.csv')\n",
    "df.head(10)"
   ]
  },
  {
   "cell_type": "code",
   "execution_count": 207,
   "metadata": {},
   "outputs": [
    {
     "name": "stdout",
     "output_type": "stream",
     "text": [
      "<class 'pandas.core.frame.DataFrame'>\n",
      "RangeIndex: 100000 entries, 0 to 99999\n",
      "Data columns (total 9 columns):\n",
      " #   Column             Non-Null Count   Dtype \n",
      "---  ------             --------------   ----- \n",
      " 0   Month              100000 non-null  object\n",
      " 1   DayofMonth         100000 non-null  object\n",
      " 2   DayOfWeek          100000 non-null  object\n",
      " 3   DepTime            100000 non-null  int64 \n",
      " 4   UniqueCarrier      100000 non-null  object\n",
      " 5   Origin             100000 non-null  object\n",
      " 6   Dest               100000 non-null  object\n",
      " 7   Distance           100000 non-null  int64 \n",
      " 8   dep_delayed_15min  100000 non-null  object\n",
      "dtypes: int64(2), object(7)\n",
      "memory usage: 6.9+ MB\n"
     ]
    }
   ],
   "source": [
    "df.info()"
   ]
  },
  {
   "cell_type": "code",
   "execution_count": 208,
   "metadata": {},
   "outputs": [
    {
     "data": {
      "text/plain": [
       "array(['c-8', 'c-4', 'c-9', 'c-11', 'c-10', 'c-1', 'c-7', 'c-6', 'c-5',\n",
       "       'c-3', 'c-12', 'c-2'], dtype=object)"
      ]
     },
     "execution_count": 208,
     "metadata": {},
     "output_type": "execute_result"
    }
   ],
   "source": [
    "df['Month'].unique()"
   ]
  },
  {
   "cell_type": "code",
   "execution_count": 209,
   "metadata": {},
   "outputs": [
    {
     "data": {
      "application/vnd.microsoft.datawrangler.viewer.v0+json": {
       "columns": [
        {
         "name": "index",
         "rawType": "int64",
         "type": "integer"
        },
        {
         "name": "Month",
         "rawType": "int64",
         "type": "integer"
        },
        {
         "name": "DayofMonth",
         "rawType": "int64",
         "type": "integer"
        },
        {
         "name": "DayOfWeek",
         "rawType": "int64",
         "type": "integer"
        },
        {
         "name": "DepTime",
         "rawType": "int64",
         "type": "integer"
        },
        {
         "name": "UniqueCarrier",
         "rawType": "object",
         "type": "string"
        },
        {
         "name": "Origin",
         "rawType": "object",
         "type": "string"
        },
        {
         "name": "Dest",
         "rawType": "object",
         "type": "string"
        },
        {
         "name": "Distance",
         "rawType": "int64",
         "type": "integer"
        },
        {
         "name": "dep_delayed_15min",
         "rawType": "object",
         "type": "string"
        }
       ],
       "conversionMethod": "pd.DataFrame",
       "ref": "f2e60dee-75cf-4ee7-aa96-25b3421e974f",
       "rows": [
        [
         "0",
         "8",
         "21",
         "7",
         "1934",
         "AA",
         "ATL",
         "DFW",
         "732",
         "N"
        ],
        [
         "1",
         "4",
         "20",
         "3",
         "1548",
         "US",
         "PIT",
         "MCO",
         "834",
         "N"
        ],
        [
         "2",
         "9",
         "2",
         "5",
         "1422",
         "XE",
         "RDU",
         "CLE",
         "416",
         "N"
        ],
        [
         "3",
         "11",
         "25",
         "6",
         "1015",
         "OO",
         "DEN",
         "MEM",
         "872",
         "N"
        ],
        [
         "4",
         "10",
         "7",
         "6",
         "1828",
         "WN",
         "MDW",
         "OMA",
         "423",
         "Y"
        ]
       ],
       "shape": {
        "columns": 9,
        "rows": 5
       }
      },
      "text/html": [
       "<div>\n",
       "<style scoped>\n",
       "    .dataframe tbody tr th:only-of-type {\n",
       "        vertical-align: middle;\n",
       "    }\n",
       "\n",
       "    .dataframe tbody tr th {\n",
       "        vertical-align: top;\n",
       "    }\n",
       "\n",
       "    .dataframe thead th {\n",
       "        text-align: right;\n",
       "    }\n",
       "</style>\n",
       "<table border=\"1\" class=\"dataframe\">\n",
       "  <thead>\n",
       "    <tr style=\"text-align: right;\">\n",
       "      <th></th>\n",
       "      <th>Month</th>\n",
       "      <th>DayofMonth</th>\n",
       "      <th>DayOfWeek</th>\n",
       "      <th>DepTime</th>\n",
       "      <th>UniqueCarrier</th>\n",
       "      <th>Origin</th>\n",
       "      <th>Dest</th>\n",
       "      <th>Distance</th>\n",
       "      <th>dep_delayed_15min</th>\n",
       "    </tr>\n",
       "  </thead>\n",
       "  <tbody>\n",
       "    <tr>\n",
       "      <th>0</th>\n",
       "      <td>8</td>\n",
       "      <td>21</td>\n",
       "      <td>7</td>\n",
       "      <td>1934</td>\n",
       "      <td>AA</td>\n",
       "      <td>ATL</td>\n",
       "      <td>DFW</td>\n",
       "      <td>732</td>\n",
       "      <td>N</td>\n",
       "    </tr>\n",
       "    <tr>\n",
       "      <th>1</th>\n",
       "      <td>4</td>\n",
       "      <td>20</td>\n",
       "      <td>3</td>\n",
       "      <td>1548</td>\n",
       "      <td>US</td>\n",
       "      <td>PIT</td>\n",
       "      <td>MCO</td>\n",
       "      <td>834</td>\n",
       "      <td>N</td>\n",
       "    </tr>\n",
       "    <tr>\n",
       "      <th>2</th>\n",
       "      <td>9</td>\n",
       "      <td>2</td>\n",
       "      <td>5</td>\n",
       "      <td>1422</td>\n",
       "      <td>XE</td>\n",
       "      <td>RDU</td>\n",
       "      <td>CLE</td>\n",
       "      <td>416</td>\n",
       "      <td>N</td>\n",
       "    </tr>\n",
       "    <tr>\n",
       "      <th>3</th>\n",
       "      <td>11</td>\n",
       "      <td>25</td>\n",
       "      <td>6</td>\n",
       "      <td>1015</td>\n",
       "      <td>OO</td>\n",
       "      <td>DEN</td>\n",
       "      <td>MEM</td>\n",
       "      <td>872</td>\n",
       "      <td>N</td>\n",
       "    </tr>\n",
       "    <tr>\n",
       "      <th>4</th>\n",
       "      <td>10</td>\n",
       "      <td>7</td>\n",
       "      <td>6</td>\n",
       "      <td>1828</td>\n",
       "      <td>WN</td>\n",
       "      <td>MDW</td>\n",
       "      <td>OMA</td>\n",
       "      <td>423</td>\n",
       "      <td>Y</td>\n",
       "    </tr>\n",
       "  </tbody>\n",
       "</table>\n",
       "</div>"
      ],
      "text/plain": [
       "   Month  DayofMonth  DayOfWeek  DepTime UniqueCarrier Origin Dest  Distance  \\\n",
       "0      8          21          7     1934            AA    ATL  DFW       732   \n",
       "1      4          20          3     1548            US    PIT  MCO       834   \n",
       "2      9           2          5     1422            XE    RDU  CLE       416   \n",
       "3     11          25          6     1015            OO    DEN  MEM       872   \n",
       "4     10           7          6     1828            WN    MDW  OMA       423   \n",
       "\n",
       "  dep_delayed_15min  \n",
       "0                 N  \n",
       "1                 N  \n",
       "2                 N  \n",
       "3                 N  \n",
       "4                 Y  "
      ]
     },
     "execution_count": 209,
     "metadata": {},
     "output_type": "execute_result"
    }
   ],
   "source": [
    "# Elimino las letras c- de month, dayofmonth y dayofweek y lo paso a numerico\n",
    "df['Month'] = df['Month'].str.split('-').str[1].astype(int)\n",
    "df['DayofMonth'] = df['DayofMonth'].str.split('-').str[1].astype(int)\n",
    "df['DayOfWeek'] = df['DayOfWeek'].str.split('-').str[1].astype(int)\n",
    "df.rename(columns = {'DayOfWeek':'DayofWeek'})\n",
    "df.head()"
   ]
  },
  {
   "cell_type": "code",
   "execution_count": 210,
   "metadata": {},
   "outputs": [
    {
     "name": "stdout",
     "output_type": "stream",
     "text": [
      "<class 'pandas.core.frame.DataFrame'>\n",
      "RangeIndex: 100000 entries, 0 to 99999\n",
      "Data columns (total 9 columns):\n",
      " #   Column             Non-Null Count   Dtype \n",
      "---  ------             --------------   ----- \n",
      " 0   Month              100000 non-null  int64 \n",
      " 1   DayofMonth         100000 non-null  int64 \n",
      " 2   DayOfWeek          100000 non-null  int64 \n",
      " 3   DepTime            100000 non-null  int64 \n",
      " 4   UniqueCarrier      100000 non-null  object\n",
      " 5   Origin             100000 non-null  object\n",
      " 6   Dest               100000 non-null  object\n",
      " 7   Distance           100000 non-null  int64 \n",
      " 8   dep_delayed_15min  100000 non-null  object\n",
      "dtypes: int64(5), object(4)\n",
      "memory usage: 6.9+ MB\n"
     ]
    }
   ],
   "source": [
    "# Aseguro que aeropuerto de origen y de destino no sean iguales, ya que sería un error\n",
    "df = df[df['Origin'] != df['Dest']]\n",
    "df.info()"
   ]
  },
  {
   "cell_type": "markdown",
   "metadata": {},
   "source": [
    "## EDA"
   ]
  },
  {
   "cell_type": "markdown",
   "metadata": {},
   "source": [
    "#### Distribución del target"
   ]
  },
  {
   "cell_type": "code",
   "execution_count": 211,
   "metadata": {},
   "outputs": [
    {
     "data": {
      "text/plain": [
       "(array([80956.,     0.,     0.,     0.,     0.,     0.,     0.,     0.,\n",
       "            0., 19044.]),\n",
       " array([0. , 0.1, 0.2, 0.3, 0.4, 0.5, 0.6, 0.7, 0.8, 0.9, 1. ]),\n",
       " <BarContainer object of 10 artists>)"
      ]
     },
     "execution_count": 211,
     "metadata": {},
     "output_type": "execute_result"
    },
    {
     "data": {
      "image/png": "[encoded data removed]",
      "text/plain": [
       "<Figure size 640x480 with 1 Axes>"
      ]
     },
     "metadata": {},
     "output_type": "display_data"
    }
   ],
   "source": [
    "#Distribución del target.\n",
    "plt.hist(df['dep_delayed_15min'])"
   ]
  },
  {
   "cell_type": "markdown",
   "metadata": {},
   "source": [
    "### Análisis univariante"
   ]
  },
  {
   "cell_type": "markdown",
   "metadata": {},
   "source": [
    "Análisis de la distribución de la variable mes"
   ]
  },
  {
   "cell_type": "code",
   "execution_count": 212,
   "metadata": {},
   "outputs": [
    {
     "data": {
      "text/plain": [
       "Text(0.5, 1.0, 'Distribution of Month')"
      ]
     },
     "execution_count": 212,
     "metadata": {},
     "output_type": "execute_result"
    },
    {
     "data": {
      "image/png": "[encoded data removed]",
      "text/plain": [
       "<Figure size 640x480 with 1 Axes>"
      ]
     },
     "metadata": {},
     "output_type": "display_data"
    }
   ],
   "source": [
    "plt.hist(df['Month'], bins = 12)\n",
    "plt.title('Distribution of Month')"
   ]
  },
  {
   "cell_type": "markdown",
   "metadata": {},
   "source": [
    "Se dispone de datos de un número de vuelos muy similar para cada mes."
   ]
  },
  {
   "cell_type": "markdown",
   "metadata": {},
   "source": [
    "Análisis de las aerolíneas y aeropuertos de origen y destino"
   ]
  },
  {
   "cell_type": "code",
   "execution_count": 213,
   "metadata": {},
   "outputs": [
    {
     "name": "stdout",
     "output_type": "stream",
     "text": [
      "UniqueCarrier\n",
      "WN    15082\n",
      "AA     9418\n",
      "DL     8128\n",
      "MQ     7443\n",
      "OO     7390\n",
      "UA     6876\n",
      "US     6482\n",
      "NW     6403\n",
      "XE     5901\n",
      "OH     4594\n",
      "CO     4334\n",
      "EV     3930\n",
      "FL     3039\n",
      "AS     2222\n",
      "YV     2128\n",
      "B6     1838\n",
      "HP     1378\n",
      "F9     1006\n",
      "DH      966\n",
      "HA      762\n",
      "TZ      446\n",
      "AQ      234\n",
      "Name: count, dtype: int64\n",
      "count       22.000000\n",
      "mean      4545.454545\n",
      "std       3683.306960\n",
      "min        234.000000\n",
      "25%       1493.000000\n",
      "50%       4132.000000\n",
      "75%       6777.500000\n",
      "max      15082.000000\n",
      "Name: count, dtype: float64\n"
     ]
    }
   ],
   "source": [
    "airlines = df['UniqueCarrier'].value_counts()\n",
    "print(airlines)\n",
    "print(airlines.describe())"
   ]
  },
  {
   "cell_type": "markdown",
   "metadata": {},
   "source": [
    "Hay datos de vuelo de 22 aerolíneas. De media se tienen datos de 4545 vuelos de cada aerolínea, pero la desviación estándar es muy grande, por lo que hay aerolíneas con muchos vuelos y otras con muy pocos."
   ]
  },
  {
   "cell_type": "code",
   "execution_count": 214,
   "metadata": {},
   "outputs": [
    {
     "data": {
      "text/plain": [
       "Text(0, 0.5, 'Nº of flights in the dataset')"
      ]
     },
     "execution_count": 214,
     "metadata": {},
     "output_type": "execute_result"
    },
    {
     "data": {
      "image/png": "[encoded data removed]",
      "text/plain": [
       "<Figure size 640x480 with 1 Axes>"
      ]
     },
     "metadata": {},
     "output_type": "display_data"
    }
   ],
   "source": [
    "sns.barplot(airlines.head(5))\n",
    "plt.title('Top 5 Airlines')\n",
    "plt.ylabel('Nº of flights in the dataset')"
   ]
  },
  {
   "cell_type": "code",
   "execution_count": 215,
   "metadata": {},
   "outputs": [
    {
     "data": {
      "text/plain": [
       "count     289.000000\n",
       "mean      346.020761\n",
       "std       739.424875\n",
       "min         1.000000\n",
       "25%        23.000000\n",
       "50%        67.000000\n",
       "75%       272.000000\n",
       "max      5834.000000\n",
       "Name: count, dtype: float64"
      ]
     },
     "execution_count": 215,
     "metadata": {},
     "output_type": "execute_result"
    }
   ],
   "source": [
    "airport_origin = df['Origin'].value_counts()\n",
    "airport_origin.describe()"
   ]
  },
  {
   "cell_type": "markdown",
   "metadata": {},
   "source": [
    "Se tienen datos de 289 aeropuertos origen. Hay registros que aparecen muy pocas veces y otros que son muy comunes."
   ]
  },
  {
   "cell_type": "code",
   "execution_count": 216,
   "metadata": {},
   "outputs": [
    {
     "data": {
      "text/plain": [
       "Text(0, 0.5, 'Nº of flights in the dataset')"
      ]
     },
     "execution_count": 216,
     "metadata": {},
     "output_type": "execute_result"
    },
    {
     "data": {
      "image/png": "[encoded data removed]",
      "text/plain": [
       "<Figure size 640x480 with 1 Axes>"
      ]
     },
     "metadata": {},
     "output_type": "display_data"
    }
   ],
   "source": [
    "sns.barplot(airport_origin.head(5))\n",
    "plt.title('Top 5 Airports for Departure')\n",
    "plt.ylabel('Nº of flights in the dataset')"
   ]
  },
  {
   "cell_type": "code",
   "execution_count": 217,
   "metadata": {},
   "outputs": [
    {
     "data": {
      "text/plain": [
       "count     289.000000\n",
       "mean      346.020761\n",
       "std       739.527162\n",
       "min         1.000000\n",
       "25%        24.000000\n",
       "50%        65.000000\n",
       "75%       268.000000\n",
       "max      5795.000000\n",
       "Name: count, dtype: float64"
      ]
     },
     "execution_count": 217,
     "metadata": {},
     "output_type": "execute_result"
    }
   ],
   "source": [
    "airport_dest = df['Dest'].value_counts()\n",
    "airport_dest.describe()"
   ]
  },
  {
   "cell_type": "code",
   "execution_count": 218,
   "metadata": {},
   "outputs": [
    {
     "data": {
      "text/plain": [
       "Text(0, 0.5, 'Nº of flights in the dataset')"
      ]
     },
     "execution_count": 218,
     "metadata": {},
     "output_type": "execute_result"
    },
    {
     "data": {
      "image/png": "[encoded data removed]",
      "text/plain": [
       "<Figure size 640x480 with 1 Axes>"
      ]
     },
     "metadata": {},
     "output_type": "display_data"
    }
   ],
   "source": [
    "sns.barplot(airport_dest.head(5))\n",
    "plt.title('Top 5 Airports for Arrival')\n",
    "plt.ylabel('Nº of flights in the dataset')"
   ]
  },
  {
   "cell_type": "code",
   "execution_count": 219,
   "metadata": {},
   "outputs": [
    {
     "data": {
      "text/plain": [
       "<Axes: ylabel='Distance'>"
      ]
     },
     "execution_count": 219,
     "metadata": {},
     "output_type": "execute_result"
    },
    {
     "data": {
      "image/png": "[encoded data removed]",
      "text/plain": [
       "<Figure size 640x480 with 1 Axes>"
      ]
     },
     "metadata": {},
     "output_type": "display_data"
    }
   ],
   "source": [
    "sns.boxplot(df['Distance'])"
   ]
  },
  {
   "cell_type": "code",
   "execution_count": 220,
   "metadata": {},
   "outputs": [
    {
     "data": {
      "text/plain": [
       "count    100000.00000\n",
       "mean        729.39716\n",
       "std         574.61686\n",
       "min          30.00000\n",
       "25%         317.00000\n",
       "50%         575.00000\n",
       "75%         957.00000\n",
       "max        4962.00000\n",
       "Name: Distance, dtype: float64"
      ]
     },
     "execution_count": 220,
     "metadata": {},
     "output_type": "execute_result"
    }
   ],
   "source": [
    "df['Distance'].describe()"
   ]
  },
  {
   "cell_type": "markdown",
   "metadata": {},
   "source": [
    "## Análisis Bivariante"
   ]
  },
  {
   "cell_type": "code",
   "execution_count": 221,
   "metadata": {},
   "outputs": [
    {
     "data": {
      "application/vnd.microsoft.datawrangler.viewer.v0+json": {
       "columns": [
        {
         "name": "index",
         "rawType": "int64",
         "type": "integer"
        },
        {
         "name": "Month",
         "rawType": "int64",
         "type": "integer"
        },
        {
         "name": "DayofMonth",
         "rawType": "int64",
         "type": "integer"
        },
        {
         "name": "DayOfWeek",
         "rawType": "int64",
         "type": "integer"
        },
        {
         "name": "DepTime",
         "rawType": "int64",
         "type": "integer"
        },
        {
         "name": "UniqueCarrier",
         "rawType": "object",
         "type": "string"
        },
        {
         "name": "Origin",
         "rawType": "object",
         "type": "string"
        },
        {
         "name": "Dest",
         "rawType": "object",
         "type": "string"
        },
        {
         "name": "Distance",
         "rawType": "int64",
         "type": "integer"
        },
        {
         "name": "dep_delayed_15min",
         "rawType": "object",
         "type": "string"
        }
       ],
       "conversionMethod": "pd.DataFrame",
       "ref": "0553ac30-592d-47fb-9845-6523c6704d44",
       "rows": [
        [
         "0",
         "8",
         "21",
         "7",
         "1934",
         "AA",
         "ATL",
         "DFW",
         "732",
         "N"
        ],
        [
         "1",
         "4",
         "20",
         "3",
         "1548",
         "US",
         "PIT",
         "MCO",
         "834",
         "N"
        ],
        [
         "2",
         "9",
         "2",
         "5",
         "1422",
         "XE",
         "RDU",
         "CLE",
         "416",
         "N"
        ],
        [
         "3",
         "11",
         "25",
         "6",
         "1015",
         "OO",
         "DEN",
         "MEM",
         "872",
         "N"
        ],
        [
         "4",
         "10",
         "7",
         "6",
         "1828",
         "WN",
         "MDW",
         "OMA",
         "423",
         "Y"
        ]
       ],
       "shape": {
        "columns": 9,
        "rows": 5
       }
      },
      "text/html": [
       "<div>\n",
       "<style scoped>\n",
       "    .dataframe tbody tr th:only-of-type {\n",
       "        vertical-align: middle;\n",
       "    }\n",
       "\n",
       "    .dataframe tbody tr th {\n",
       "        vertical-align: top;\n",
       "    }\n",
       "\n",
       "    .dataframe thead th {\n",
       "        text-align: right;\n",
       "    }\n",
       "</style>\n",
       "<table border=\"1\" class=\"dataframe\">\n",
       "  <thead>\n",
       "    <tr style=\"text-align: right;\">\n",
       "      <th></th>\n",
       "      <th>Month</th>\n",
       "      <th>DayofMonth</th>\n",
       "      <th>DayOfWeek</th>\n",
       "      <th>DepTime</th>\n",
       "      <th>UniqueCarrier</th>\n",
       "      <th>Origin</th>\n",
       "      <th>Dest</th>\n",
       "      <th>Distance</th>\n",
       "      <th>dep_delayed_15min</th>\n",
       "    </tr>\n",
       "  </thead>\n",
       "  <tbody>\n",
       "    <tr>\n",
       "      <th>0</th>\n",
       "      <td>8</td>\n",
       "      <td>21</td>\n",
       "      <td>7</td>\n",
       "      <td>1934</td>\n",
       "      <td>AA</td>\n",
       "      <td>ATL</td>\n",
       "      <td>DFW</td>\n",
       "      <td>732</td>\n",
       "      <td>N</td>\n",
       "    </tr>\n",
       "    <tr>\n",
       "      <th>1</th>\n",
       "      <td>4</td>\n",
       "      <td>20</td>\n",
       "      <td>3</td>\n",
       "      <td>1548</td>\n",
       "      <td>US</td>\n",
       "      <td>PIT</td>\n",
       "      <td>MCO</td>\n",
       "      <td>834</td>\n",
       "      <td>N</td>\n",
       "    </tr>\n",
       "    <tr>\n",
       "      <th>2</th>\n",
       "      <td>9</td>\n",
       "      <td>2</td>\n",
       "      <td>5</td>\n",
       "      <td>1422</td>\n",
       "      <td>XE</td>\n",
       "      <td>RDU</td>\n",
       "      <td>CLE</td>\n",
       "      <td>416</td>\n",
       "      <td>N</td>\n",
       "    </tr>\n",
       "    <tr>\n",
       "      <th>3</th>\n",
       "      <td>11</td>\n",
       "      <td>25</td>\n",
       "      <td>6</td>\n",
       "      <td>1015</td>\n",
       "      <td>OO</td>\n",
       "      <td>DEN</td>\n",
       "      <td>MEM</td>\n",
       "      <td>872</td>\n",
       "      <td>N</td>\n",
       "    </tr>\n",
       "    <tr>\n",
       "      <th>4</th>\n",
       "      <td>10</td>\n",
       "      <td>7</td>\n",
       "      <td>6</td>\n",
       "      <td>1828</td>\n",
       "      <td>WN</td>\n",
       "      <td>MDW</td>\n",
       "      <td>OMA</td>\n",
       "      <td>423</td>\n",
       "      <td>Y</td>\n",
       "    </tr>\n",
       "  </tbody>\n",
       "</table>\n",
       "</div>"
      ],
      "text/plain": [
       "   Month  DayofMonth  DayOfWeek  DepTime UniqueCarrier Origin Dest  Distance  \\\n",
       "0      8          21          7     1934            AA    ATL  DFW       732   \n",
       "1      4          20          3     1548            US    PIT  MCO       834   \n",
       "2      9           2          5     1422            XE    RDU  CLE       416   \n",
       "3     11          25          6     1015            OO    DEN  MEM       872   \n",
       "4     10           7          6     1828            WN    MDW  OMA       423   \n",
       "\n",
       "  dep_delayed_15min  \n",
       "0                 N  \n",
       "1                 N  \n",
       "2                 N  \n",
       "3                 N  \n",
       "4                 Y  "
      ]
     },
     "execution_count": 221,
     "metadata": {},
     "output_type": "execute_result"
    }
   ],
   "source": [
    "df.head()"
   ]
  },
  {
   "cell_type": "code",
   "execution_count": 222,
   "metadata": {},
   "outputs": [],
   "source": [
    "vuelos_totales = df.groupby('UniqueCarrier')['dep_delayed_15min'].count()\n",
    "vuelos_retraso = df[df['dep_delayed_15min'] == 'Y'].groupby('UniqueCarrier')['dep_delayed_15min'].count()"
   ]
  },
  {
   "cell_type": "code",
   "execution_count": 223,
   "metadata": {},
   "outputs": [
    {
     "data": {
      "text/plain": [
       "UniqueCarrier\n",
       "AA     9418\n",
       "AQ      234\n",
       "AS     2222\n",
       "B6     1838\n",
       "CO     4334\n",
       "DH      966\n",
       "DL     8128\n",
       "EV     3930\n",
       "F9     1006\n",
       "FL     3039\n",
       "HA      762\n",
       "HP     1378\n",
       "MQ     7443\n",
       "NW     6403\n",
       "OH     4594\n",
       "OO     7390\n",
       "TZ      446\n",
       "UA     6876\n",
       "US     6482\n",
       "WN    15082\n",
       "XE     5901\n",
       "YV     2128\n",
       "Name: dep_delayed_15min, dtype: int64"
      ]
     },
     "execution_count": 223,
     "metadata": {},
     "output_type": "execute_result"
    }
   ],
   "source": [
    "vuelos_totales"
   ]
  },
  {
   "cell_type": "code",
   "execution_count": 224,
   "metadata": {},
   "outputs": [
    {
     "data": {
      "application/vnd.microsoft.datawrangler.viewer.v0+json": {
       "columns": [
        {
         "name": "UniqueCarrier",
         "rawType": "object",
         "type": "string"
        },
        {
         "name": "Total_flights",
         "rawType": "int64",
         "type": "integer"
        },
        {
         "name": "Delayed_flights",
         "rawType": "int64",
         "type": "integer"
        },
        {
         "name": "pct_delays",
         "rawType": "float64",
         "type": "float"
        }
       ],
       "conversionMethod": "pd.DataFrame",
       "ref": "56c019cc-daa9-4db3-aef3-deaff37a49bc",
       "rows": [
        [
         "EV",
         "3930",
         "1082",
         "0.2753"
        ],
        [
         "AS",
         "2222",
         "541",
         "0.2435"
        ],
        [
         "FL",
         "3039",
         "736",
         "0.2422"
        ],
        [
         "YV",
         "2128",
         "478",
         "0.2246"
        ],
        [
         "B6",
         "1838",
         "393",
         "0.2138"
        ],
        [
         "WN",
         "15082",
         "3219",
         "0.2134"
        ],
        [
         "MQ",
         "7443",
         "1448",
         "0.1945"
        ],
        [
         "UA",
         "6876",
         "1322",
         "0.1923"
        ],
        [
         "AA",
         "9418",
         "1770",
         "0.1879"
        ],
        [
         "CO",
         "4334",
         "788",
         "0.1818"
        ],
        [
         "OH",
         "4594",
         "808",
         "0.1759"
        ],
        [
         "XE",
         "5901",
         "1026",
         "0.1739"
        ],
        [
         "OO",
         "7390",
         "1277",
         "0.1728"
        ],
        [
         "DL",
         "8128",
         "1373",
         "0.1689"
        ],
        [
         "NW",
         "6403",
         "1075",
         "0.1679"
        ],
        [
         "US",
         "6482",
         "1085",
         "0.1674"
        ],
        [
         "DH",
         "966",
         "156",
         "0.1615"
        ],
        [
         "F9",
         "1006",
         "156",
         "0.1551"
        ],
        [
         "TZ",
         "446",
         "64",
         "0.1435"
        ],
        [
         "HP",
         "1378",
         "196",
         "0.1422"
        ],
        [
         "AQ",
         "234",
         "18",
         "0.0769"
        ],
        [
         "HA",
         "762",
         "33",
         "0.0433"
        ]
       ],
       "shape": {
        "columns": 3,
        "rows": 22
       }
      },
      "text/html": [
       "<div>\n",
       "<style scoped>\n",
       "    .dataframe tbody tr th:only-of-type {\n",
       "        vertical-align: middle;\n",
       "    }\n",
       "\n",
       "    .dataframe tbody tr th {\n",
       "        vertical-align: top;\n",
       "    }\n",
       "\n",
       "    .dataframe thead th {\n",
       "        text-align: right;\n",
       "    }\n",
       "</style>\n",
       "<table border=\"1\" class=\"dataframe\">\n",
       "  <thead>\n",
       "    <tr style=\"text-align: right;\">\n",
       "      <th></th>\n",
       "      <th>Total_flights</th>\n",
       "      <th>Delayed_flights</th>\n",
       "      <th>pct_delays</th>\n",
       "    </tr>\n",
       "    <tr>\n",
       "      <th>UniqueCarrier</th>\n",
       "      <th></th>\n",
       "      <th></th>\n",
       "      <th></th>\n",
       "    </tr>\n",
       "  </thead>\n",
       "  <tbody>\n",
       "    <tr>\n",
       "      <th>EV</th>\n",
       "      <td>3930</td>\n",
       "      <td>1082</td>\n",
       "      <td>0.2753</td>\n",
       "    </tr>\n",
       "    <tr>\n",
       "      <th>AS</th>\n",
       "      <td>2222</td>\n",
       "      <td>541</td>\n",
       "      <td>0.2435</td>\n",
       "    </tr>\n",
       "    <tr>\n",
       "      <th>FL</th>\n",
       "      <td>3039</td>\n",
       "      <td>736</td>\n",
       "      <td>0.2422</td>\n",
       "    </tr>\n",
       "    <tr>\n",
       "      <th>YV</th>\n",
       "      <td>2128</td>\n",
       "      <td>478</td>\n",
       "      <td>0.2246</td>\n",
       "    </tr>\n",
       "    <tr>\n",
       "      <th>B6</th>\n",
       "      <td>1838</td>\n",
       "      <td>393</td>\n",
       "      <td>0.2138</td>\n",
       "    </tr>\n",
       "    <tr>\n",
       "      <th>WN</th>\n",
       "      <td>15082</td>\n",
       "      <td>3219</td>\n",
       "      <td>0.2134</td>\n",
       "    </tr>\n",
       "    <tr>\n",
       "      <th>MQ</th>\n",
       "      <td>7443</td>\n",
       "      <td>1448</td>\n",
       "      <td>0.1945</td>\n",
       "    </tr>\n",
       "    <tr>\n",
       "      <th>UA</th>\n",
       "      <td>6876</td>\n",
       "      <td>1322</td>\n",
       "      <td>0.1923</td>\n",
       "    </tr>\n",
       "    <tr>\n",
       "      <th>AA</th>\n",
       "      <td>9418</td>\n",
       "      <td>1770</td>\n",
       "      <td>0.1879</td>\n",
       "    </tr>\n",
       "    <tr>\n",
       "      <th>CO</th>\n",
       "      <td>4334</td>\n",
       "      <td>788</td>\n",
       "      <td>0.1818</td>\n",
       "    </tr>\n",
       "    <tr>\n",
       "      <th>OH</th>\n",
       "      <td>4594</td>\n",
       "      <td>808</td>\n",
       "      <td>0.1759</td>\n",
       "    </tr>\n",
       "    <tr>\n",
       "      <th>XE</th>\n",
       "      <td>5901</td>\n",
       "      <td>1026</td>\n",
       "      <td>0.1739</td>\n",
       "    </tr>\n",
       "    <tr>\n",
       "      <th>OO</th>\n",
       "      <td>7390</td>\n",
       "      <td>1277</td>\n",
       "      <td>0.1728</td>\n",
       "    </tr>\n",
       "    <tr>\n",
       "      <th>DL</th>\n",
       "      <td>8128</td>\n",
       "      <td>1373</td>\n",
       "      <td>0.1689</td>\n",
       "    </tr>\n",
       "    <tr>\n",
       "      <th>NW</th>\n",
       "      <td>6403</td>\n",
       "      <td>1075</td>\n",
       "      <td>0.1679</td>\n",
       "    </tr>\n",
       "    <tr>\n",
       "      <th>US</th>\n",
       "      <td>6482</td>\n",
       "      <td>1085</td>\n",
       "      <td>0.1674</td>\n",
       "    </tr>\n",
       "    <tr>\n",
       "      <th>DH</th>\n",
       "      <td>966</td>\n",
       "      <td>156</td>\n",
       "      <td>0.1615</td>\n",
       "    </tr>\n",
       "    <tr>\n",
       "      <th>F9</th>\n",
       "      <td>1006</td>\n",
       "      <td>156</td>\n",
       "      <td>0.1551</td>\n",
       "    </tr>\n",
       "    <tr>\n",
       "      <th>TZ</th>\n",
       "      <td>446</td>\n",
       "      <td>64</td>\n",
       "      <td>0.1435</td>\n",
       "    </tr>\n",
       "    <tr>\n",
       "      <th>HP</th>\n",
       "      <td>1378</td>\n",
       "      <td>196</td>\n",
       "      <td>0.1422</td>\n",
       "    </tr>\n",
       "    <tr>\n",
       "      <th>AQ</th>\n",
       "      <td>234</td>\n",
       "      <td>18</td>\n",
       "      <td>0.0769</td>\n",
       "    </tr>\n",
       "    <tr>\n",
       "      <th>HA</th>\n",
       "      <td>762</td>\n",
       "      <td>33</td>\n",
       "      <td>0.0433</td>\n",
       "    </tr>\n",
       "  </tbody>\n",
       "</table>\n",
       "</div>"
      ],
      "text/plain": [
       "               Total_flights  Delayed_flights  pct_delays\n",
       "UniqueCarrier                                            \n",
       "EV                      3930             1082      0.2753\n",
       "AS                      2222              541      0.2435\n",
       "FL                      3039              736      0.2422\n",
       "YV                      2128              478      0.2246\n",
       "B6                      1838              393      0.2138\n",
       "WN                     15082             3219      0.2134\n",
       "MQ                      7443             1448      0.1945\n",
       "UA                      6876             1322      0.1923\n",
       "AA                      9418             1770      0.1879\n",
       "CO                      4334              788      0.1818\n",
       "OH                      4594              808      0.1759\n",
       "XE                      5901             1026      0.1739\n",
       "OO                      7390             1277      0.1728\n",
       "DL                      8128             1373      0.1689\n",
       "NW                      6403             1075      0.1679\n",
       "US                      6482             1085      0.1674\n",
       "DH                       966              156      0.1615\n",
       "F9                      1006              156      0.1551\n",
       "TZ                       446               64      0.1435\n",
       "HP                      1378              196      0.1422\n",
       "AQ                       234               18      0.0769\n",
       "HA                       762               33      0.0433"
      ]
     },
     "execution_count": 224,
     "metadata": {},
     "output_type": "execute_result"
    }
   ],
   "source": [
    "airlines_pct_delay = pd.merge(left = vuelos_totales, right = vuelos_retraso, on = 'UniqueCarrier', how = 'inner')\n",
    "airlines_pct_delay.rename(columns = {'dep_delayed_15min_x': 'Total_flights', 'dep_delayed_15min_y': 'Delayed_flights' }, inplace = True)\n",
    "airlines_pct_delay['pct_delays'] = round(airlines_pct_delay['Delayed_flights'] / airlines_pct_delay['Total_flights'],4)\n",
    "airlines_pct_delay.sort_values(by = 'pct_delays', ascending = False, inplace = True)\n",
    "airlines_pct_delay"
   ]
  },
  {
   "cell_type": "code",
   "execution_count": 225,
   "metadata": {},
   "outputs": [
    {
     "data": {
      "text/plain": [
       "<Axes: xlabel='UniqueCarrier', ylabel='pct_delays'>"
      ]
     },
     "execution_count": 225,
     "metadata": {},
     "output_type": "execute_result"
    },
    {
     "data": {
      "image/png": "[encoded data removed]",
      "text/plain": [
       "<Figure size 640x480 with 1 Axes>"
      ]
     },
     "metadata": {},
     "output_type": "display_data"
    }
   ],
   "source": [
    "sns.barplot(airlines_pct_delay['pct_delays'])"
   ]
  },
  {
   "cell_type": "code",
   "execution_count": 226,
   "metadata": {},
   "outputs": [
    {
     "data": {
      "application/vnd.microsoft.datawrangler.viewer.v0+json": {
       "columns": [
        {
         "name": "Origin",
         "rawType": "object",
         "type": "string"
        },
        {
         "name": "Total_flights",
         "rawType": "int64",
         "type": "integer"
        },
        {
         "name": "Delayed_flights",
         "rawType": "int64",
         "type": "integer"
        },
        {
         "name": "pct_delays",
         "rawType": "float64",
         "type": "float"
        }
       ],
       "conversionMethod": "pd.DataFrame",
       "ref": "6fb77f75-33a4-4377-bf91-d27f2d50c29f",
       "rows": [
        [
         "GST",
         "1",
         "1",
         "1.0"
        ],
        [
         "ADK",
         "1",
         "1",
         "1.0"
        ],
        [
         "AKN",
         "2",
         "2",
         "1.0"
        ],
        [
         "LWB",
         "4",
         "3",
         "0.75"
        ],
        [
         "BRW",
         "7",
         "5",
         "0.7143"
        ],
        [
         "GUC",
         "12",
         "8",
         "0.6667"
        ],
        [
         "ADQ",
         "5",
         "3",
         "0.6"
        ],
        [
         "SCC",
         "4",
         "2",
         "0.5"
        ],
        [
         "TEX",
         "2",
         "1",
         "0.5"
        ],
        [
         "DLG",
         "5",
         "2",
         "0.4"
        ],
        [
         "EGE",
         "25",
         "9",
         "0.36"
        ],
        [
         "BLI",
         "3",
         "1",
         "0.3333"
        ],
        [
         "BET",
         "21",
         "7",
         "0.3333"
        ],
        [
         "TUP",
         "6",
         "2",
         "0.3333"
        ],
        [
         "MCN",
         "9",
         "3",
         "0.3333"
        ],
        [
         "PSG",
         "18",
         "6",
         "0.3333"
        ],
        [
         "OTZ",
         "9",
         "3",
         "0.3333"
        ],
        [
         "AGS",
         "37",
         "12",
         "0.3243"
        ],
        [
         "VLD",
         "19",
         "6",
         "0.3158"
        ],
        [
         "GNV",
         "23",
         "7",
         "0.3043"
        ],
        [
         "SGF",
         "125",
         "38",
         "0.304"
        ],
        [
         "AEX",
         "37",
         "11",
         "0.2973"
        ],
        [
         "LNK",
         "27",
         "8",
         "0.2963"
        ],
        [
         "FAY",
         "24",
         "7",
         "0.2917"
        ],
        [
         "APF",
         "7",
         "2",
         "0.2857"
        ],
        [
         "HKY",
         "7",
         "2",
         "0.2857"
        ],
        [
         "MOD",
         "32",
         "9",
         "0.2812"
        ],
        [
         "ATW",
         "57",
         "16",
         "0.2807"
        ],
        [
         "PFN",
         "37",
         "10",
         "0.2703"
        ],
        [
         "FAI",
         "68",
         "18",
         "0.2647"
        ],
        [
         "ACV",
         "61",
         "16",
         "0.2623"
        ],
        [
         "PWM",
         "123",
         "32",
         "0.2602"
        ],
        [
         "ATL",
         "5834",
         "1506",
         "0.2581"
        ],
        [
         "ORD",
         "4870",
         "1254",
         "0.2575"
        ],
        [
         "MDW",
         "1366",
         "343",
         "0.2511"
        ],
        [
         "STX",
         "8",
         "2",
         "0.25"
        ],
        [
         "JNU",
         "57",
         "14",
         "0.2456"
        ],
        [
         "EWR",
         "2196",
         "538",
         "0.245"
        ],
        [
         "DAB",
         "49",
         "12",
         "0.2449"
        ],
        [
         "PHL",
         "1617",
         "388",
         "0.24"
        ],
        [
         "HOU",
         "797",
         "190",
         "0.2384"
        ],
        [
         "ROA",
         "59",
         "14",
         "0.2373"
        ],
        [
         "MLB",
         "38",
         "9",
         "0.2368"
        ],
        [
         "FNT",
         "93",
         "22",
         "0.2366"
        ],
        [
         "AVL",
         "55",
         "13",
         "0.2364"
        ],
        [
         "MGM",
         "34",
         "8",
         "0.2353"
        ],
        [
         "CAE",
         "176",
         "41",
         "0.233"
        ],
        [
         "MIA",
         "903",
         "207",
         "0.2292"
        ],
        [
         "SAV",
         "200",
         "45",
         "0.225"
        ],
        [
         "HPN",
         "103",
         "23",
         "0.2233"
        ]
       ],
       "shape": {
        "columns": 3,
        "rows": 269
       }
      },
      "text/html": [
       "<div>\n",
       "<style scoped>\n",
       "    .dataframe tbody tr th:only-of-type {\n",
       "        vertical-align: middle;\n",
       "    }\n",
       "\n",
       "    .dataframe tbody tr th {\n",
       "        vertical-align: top;\n",
       "    }\n",
       "\n",
       "    .dataframe thead th {\n",
       "        text-align: right;\n",
       "    }\n",
       "</style>\n",
       "<table border=\"1\" class=\"dataframe\">\n",
       "  <thead>\n",
       "    <tr style=\"text-align: right;\">\n",
       "      <th></th>\n",
       "      <th>Total_flights</th>\n",
       "      <th>Delayed_flights</th>\n",
       "      <th>pct_delays</th>\n",
       "    </tr>\n",
       "    <tr>\n",
       "      <th>Origin</th>\n",
       "      <th></th>\n",
       "      <th></th>\n",
       "      <th></th>\n",
       "    </tr>\n",
       "  </thead>\n",
       "  <tbody>\n",
       "    <tr>\n",
       "      <th>GST</th>\n",
       "      <td>1</td>\n",
       "      <td>1</td>\n",
       "      <td>1.0000</td>\n",
       "    </tr>\n",
       "    <tr>\n",
       "      <th>ADK</th>\n",
       "      <td>1</td>\n",
       "      <td>1</td>\n",
       "      <td>1.0000</td>\n",
       "    </tr>\n",
       "    <tr>\n",
       "      <th>AKN</th>\n",
       "      <td>2</td>\n",
       "      <td>2</td>\n",
       "      <td>1.0000</td>\n",
       "    </tr>\n",
       "    <tr>\n",
       "      <th>LWB</th>\n",
       "      <td>4</td>\n",
       "      <td>3</td>\n",
       "      <td>0.7500</td>\n",
       "    </tr>\n",
       "    <tr>\n",
       "      <th>BRW</th>\n",
       "      <td>7</td>\n",
       "      <td>5</td>\n",
       "      <td>0.7143</td>\n",
       "    </tr>\n",
       "    <tr>\n",
       "      <th>...</th>\n",
       "      <td>...</td>\n",
       "      <td>...</td>\n",
       "      <td>...</td>\n",
       "    </tr>\n",
       "    <tr>\n",
       "      <th>BRO</th>\n",
       "      <td>28</td>\n",
       "      <td>1</td>\n",
       "      <td>0.0357</td>\n",
       "    </tr>\n",
       "    <tr>\n",
       "      <th>LIH</th>\n",
       "      <td>153</td>\n",
       "      <td>5</td>\n",
       "      <td>0.0327</td>\n",
       "    </tr>\n",
       "    <tr>\n",
       "      <th>HLN</th>\n",
       "      <td>31</td>\n",
       "      <td>1</td>\n",
       "      <td>0.0323</td>\n",
       "    </tr>\n",
       "    <tr>\n",
       "      <th>ITO</th>\n",
       "      <td>68</td>\n",
       "      <td>2</td>\n",
       "      <td>0.0294</td>\n",
       "    </tr>\n",
       "    <tr>\n",
       "      <th>GTF</th>\n",
       "      <td>45</td>\n",
       "      <td>1</td>\n",
       "      <td>0.0222</td>\n",
       "    </tr>\n",
       "  </tbody>\n",
       "</table>\n",
       "<p>269 rows × 3 columns</p>\n",
       "</div>"
      ],
      "text/plain": [
       "        Total_flights  Delayed_flights  pct_delays\n",
       "Origin                                            \n",
       "GST                 1                1      1.0000\n",
       "ADK                 1                1      1.0000\n",
       "AKN                 2                2      1.0000\n",
       "LWB                 4                3      0.7500\n",
       "BRW                 7                5      0.7143\n",
       "...               ...              ...         ...\n",
       "BRO                28                1      0.0357\n",
       "LIH               153                5      0.0327\n",
       "HLN                31                1      0.0323\n",
       "ITO                68                2      0.0294\n",
       "GTF                45                1      0.0222\n",
       "\n",
       "[269 rows x 3 columns]"
      ]
     },
     "execution_count": 226,
     "metadata": {},
     "output_type": "execute_result"
    }
   ],
   "source": [
    "# Repito el proceso para analizar las diferencias en el porcentaje de vuelos retrasados según el aeropuerto de origen\n",
    "vuelos_totales = df.groupby('Origin')['dep_delayed_15min'].count()\n",
    "vuelos_retraso = df[df['dep_delayed_15min'] == 'Y'].groupby('Origin')['dep_delayed_15min'].count()\n",
    "\n",
    "origin_pct_delay = pd.merge(left = vuelos_totales, right = vuelos_retraso, on = 'Origin', how = 'inner')\n",
    "origin_pct_delay.rename(columns = {'dep_delayed_15min_x': 'Total_flights', 'dep_delayed_15min_y': 'Delayed_flights' }, inplace = True)\n",
    "origin_pct_delay['pct_delays'] = round(origin_pct_delay['Delayed_flights'] / origin_pct_delay['Total_flights'],4)\n",
    "origin_pct_delay.sort_values(by = 'pct_delays', ascending = False, inplace = True)\n",
    "origin_pct_delay"
   ]
  },
  {
   "cell_type": "markdown",
   "metadata": {},
   "source": [
    "## Primer modelo ML"
   ]
  },
  {
   "cell_type": "markdown",
   "metadata": {},
   "source": [
    "Para este primer modelo no se va a utilizar el aeropuerto origen y destino"
   ]
  },
  {
   "cell_type": "code",
   "execution_count": 227,
   "metadata": {},
   "outputs": [
    {
     "data": {
      "application/vnd.microsoft.datawrangler.viewer.v0+json": {
       "columns": [
        {
         "name": "index",
         "rawType": "int64",
         "type": "integer"
        },
        {
         "name": "Month",
         "rawType": "int64",
         "type": "integer"
        },
        {
         "name": "DayofMonth",
         "rawType": "int64",
         "type": "integer"
        },
        {
         "name": "DayOfWeek",
         "rawType": "int64",
         "type": "integer"
        },
        {
         "name": "DepTime",
         "rawType": "int64",
         "type": "integer"
        },
        {
         "name": "UniqueCarrier",
         "rawType": "object",
         "type": "string"
        },
        {
         "name": "Distance",
         "rawType": "int64",
         "type": "integer"
        },
        {
         "name": "dep_delayed_15min",
         "rawType": "object",
         "type": "string"
        }
       ],
       "conversionMethod": "pd.DataFrame",
       "ref": "d0a254eb-4a16-4231-8c10-dd7552b455c8",
       "rows": [
        [
         "0",
         "8",
         "21",
         "7",
         "1934",
         "AA",
         "732",
         "N"
        ],
        [
         "1",
         "4",
         "20",
         "3",
         "1548",
         "US",
         "834",
         "N"
        ],
        [
         "2",
         "9",
         "2",
         "5",
         "1422",
         "XE",
         "416",
         "N"
        ],
        [
         "3",
         "11",
         "25",
         "6",
         "1015",
         "OO",
         "872",
         "N"
        ],
        [
         "4",
         "10",
         "7",
         "6",
         "1828",
         "WN",
         "423",
         "Y"
        ]
       ],
       "shape": {
        "columns": 7,
        "rows": 5
       }
      },
      "text/html": [
       "<div>\n",
       "<style scoped>\n",
       "    .dataframe tbody tr th:only-of-type {\n",
       "        vertical-align: middle;\n",
       "    }\n",
       "\n",
       "    .dataframe tbody tr th {\n",
       "        vertical-align: top;\n",
       "    }\n",
       "\n",
       "    .dataframe thead th {\n",
       "        text-align: right;\n",
       "    }\n",
       "</style>\n",
       "<table border=\"1\" class=\"dataframe\">\n",
       "  <thead>\n",
       "    <tr style=\"text-align: right;\">\n",
       "      <th></th>\n",
       "      <th>Month</th>\n",
       "      <th>DayofMonth</th>\n",
       "      <th>DayOfWeek</th>\n",
       "      <th>DepTime</th>\n",
       "      <th>UniqueCarrier</th>\n",
       "      <th>Distance</th>\n",
       "      <th>dep_delayed_15min</th>\n",
       "    </tr>\n",
       "  </thead>\n",
       "  <tbody>\n",
       "    <tr>\n",
       "      <th>0</th>\n",
       "      <td>8</td>\n",
       "      <td>21</td>\n",
       "      <td>7</td>\n",
       "      <td>1934</td>\n",
       "      <td>AA</td>\n",
       "      <td>732</td>\n",
       "      <td>N</td>\n",
       "    </tr>\n",
       "    <tr>\n",
       "      <th>1</th>\n",
       "      <td>4</td>\n",
       "      <td>20</td>\n",
       "      <td>3</td>\n",
       "      <td>1548</td>\n",
       "      <td>US</td>\n",
       "      <td>834</td>\n",
       "      <td>N</td>\n",
       "    </tr>\n",
       "    <tr>\n",
       "      <th>2</th>\n",
       "      <td>9</td>\n",
       "      <td>2</td>\n",
       "      <td>5</td>\n",
       "      <td>1422</td>\n",
       "      <td>XE</td>\n",
       "      <td>416</td>\n",
       "      <td>N</td>\n",
       "    </tr>\n",
       "    <tr>\n",
       "      <th>3</th>\n",
       "      <td>11</td>\n",
       "      <td>25</td>\n",
       "      <td>6</td>\n",
       "      <td>1015</td>\n",
       "      <td>OO</td>\n",
       "      <td>872</td>\n",
       "      <td>N</td>\n",
       "    </tr>\n",
       "    <tr>\n",
       "      <th>4</th>\n",
       "      <td>10</td>\n",
       "      <td>7</td>\n",
       "      <td>6</td>\n",
       "      <td>1828</td>\n",
       "      <td>WN</td>\n",
       "      <td>423</td>\n",
       "      <td>Y</td>\n",
       "    </tr>\n",
       "  </tbody>\n",
       "</table>\n",
       "</div>"
      ],
      "text/plain": [
       "   Month  DayofMonth  DayOfWeek  DepTime UniqueCarrier  Distance  \\\n",
       "0      8          21          7     1934            AA       732   \n",
       "1      4          20          3     1548            US       834   \n",
       "2      9           2          5     1422            XE       416   \n",
       "3     11          25          6     1015            OO       872   \n",
       "4     10           7          6     1828            WN       423   \n",
       "\n",
       "  dep_delayed_15min  \n",
       "0                 N  \n",
       "1                 N  \n",
       "2                 N  \n",
       "3                 N  \n",
       "4                 Y  "
      ]
     },
     "execution_count": 227,
     "metadata": {},
     "output_type": "execute_result"
    }
   ],
   "source": [
    "df.drop(columns = ['Origin', 'Dest'], inplace = True)\n",
    "df.head()"
   ]
  },
  {
   "cell_type": "markdown",
   "metadata": {},
   "source": [
    "Cambio la columna target para sustituir N por 0 e Y por 1"
   ]
  },
  {
   "cell_type": "code",
   "execution_count": 228,
   "metadata": {},
   "outputs": [
    {
     "data": {
      "application/vnd.microsoft.datawrangler.viewer.v0+json": {
       "columns": [
        {
         "name": "index",
         "rawType": "int64",
         "type": "integer"
        },
        {
         "name": "Month",
         "rawType": "int64",
         "type": "integer"
        },
        {
         "name": "DayofMonth",
         "rawType": "int64",
         "type": "integer"
        },
        {
         "name": "DayOfWeek",
         "rawType": "int64",
         "type": "integer"
        },
        {
         "name": "DepTime",
         "rawType": "int64",
         "type": "integer"
        },
        {
         "name": "UniqueCarrier",
         "rawType": "object",
         "type": "string"
        },
        {
         "name": "Distance",
         "rawType": "int64",
         "type": "integer"
        },
        {
         "name": "dep_delayed_15",
         "rawType": "int64",
         "type": "integer"
        }
       ],
       "conversionMethod": "pd.DataFrame",
       "ref": "321ad4f3-c7cc-433b-9657-591a08caf0a2",
       "rows": [
        [
         "0",
         "8",
         "21",
         "7",
         "1934",
         "AA",
         "732",
         "0"
        ],
        [
         "1",
         "4",
         "20",
         "3",
         "1548",
         "US",
         "834",
         "0"
        ],
        [
         "2",
         "9",
         "2",
         "5",
         "1422",
         "XE",
         "416",
         "0"
        ],
        [
         "3",
         "11",
         "25",
         "6",
         "1015",
         "OO",
         "872",
         "0"
        ],
        [
         "4",
         "10",
         "7",
         "6",
         "1828",
         "WN",
         "423",
         "1"
        ]
       ],
       "shape": {
        "columns": 7,
        "rows": 5
       }
      },
      "text/html": [
       "<div>\n",
       "<style scoped>\n",
       "    .dataframe tbody tr th:only-of-type {\n",
       "        vertical-align: middle;\n",
       "    }\n",
       "\n",
       "    .dataframe tbody tr th {\n",
       "        vertical-align: top;\n",
       "    }\n",
       "\n",
       "    .dataframe thead th {\n",
       "        text-align: right;\n",
       "    }\n",
       "</style>\n",
       "<table border=\"1\" class=\"dataframe\">\n",
       "  <thead>\n",
       "    <tr style=\"text-align: right;\">\n",
       "      <th></th>\n",
       "      <th>Month</th>\n",
       "      <th>DayofMonth</th>\n",
       "      <th>DayOfWeek</th>\n",
       "      <th>DepTime</th>\n",
       "      <th>UniqueCarrier</th>\n",
       "      <th>Distance</th>\n",
       "      <th>dep_delayed_15</th>\n",
       "    </tr>\n",
       "  </thead>\n",
       "  <tbody>\n",
       "    <tr>\n",
       "      <th>0</th>\n",
       "      <td>8</td>\n",
       "      <td>21</td>\n",
       "      <td>7</td>\n",
       "      <td>1934</td>\n",
       "      <td>AA</td>\n",
       "      <td>732</td>\n",
       "      <td>0</td>\n",
       "    </tr>\n",
       "    <tr>\n",
       "      <th>1</th>\n",
       "      <td>4</td>\n",
       "      <td>20</td>\n",
       "      <td>3</td>\n",
       "      <td>1548</td>\n",
       "      <td>US</td>\n",
       "      <td>834</td>\n",
       "      <td>0</td>\n",
       "    </tr>\n",
       "    <tr>\n",
       "      <th>2</th>\n",
       "      <td>9</td>\n",
       "      <td>2</td>\n",
       "      <td>5</td>\n",
       "      <td>1422</td>\n",
       "      <td>XE</td>\n",
       "      <td>416</td>\n",
       "      <td>0</td>\n",
       "    </tr>\n",
       "    <tr>\n",
       "      <th>3</th>\n",
       "      <td>11</td>\n",
       "      <td>25</td>\n",
       "      <td>6</td>\n",
       "      <td>1015</td>\n",
       "      <td>OO</td>\n",
       "      <td>872</td>\n",
       "      <td>0</td>\n",
       "    </tr>\n",
       "    <tr>\n",
       "      <th>4</th>\n",
       "      <td>10</td>\n",
       "      <td>7</td>\n",
       "      <td>6</td>\n",
       "      <td>1828</td>\n",
       "      <td>WN</td>\n",
       "      <td>423</td>\n",
       "      <td>1</td>\n",
       "    </tr>\n",
       "  </tbody>\n",
       "</table>\n",
       "</div>"
      ],
      "text/plain": [
       "   Month  DayofMonth  DayOfWeek  DepTime UniqueCarrier  Distance  \\\n",
       "0      8          21          7     1934            AA       732   \n",
       "1      4          20          3     1548            US       834   \n",
       "2      9           2          5     1422            XE       416   \n",
       "3     11          25          6     1015            OO       872   \n",
       "4     10           7          6     1828            WN       423   \n",
       "\n",
       "   dep_delayed_15  \n",
       "0               0  \n",
       "1               0  \n",
       "2               0  \n",
       "3               0  \n",
       "4               1  "
      ]
     },
     "execution_count": 228,
     "metadata": {},
     "output_type": "execute_result"
    }
   ],
   "source": [
    "df['dep_delayed_15'] = df['dep_delayed_15min'].apply(lambda x: 0 if x == 'N' else 1)\n",
    "df.drop(columns = 'dep_delayed_15min', inplace = True)\n",
    "df.head()"
   ]
  },
  {
   "cell_type": "markdown",
   "metadata": {},
   "source": [
    "Sustituyo la variable UniqueCarrier por su porcentaje de retrasos"
   ]
  },
  {
   "cell_type": "code",
   "execution_count": 229,
   "metadata": {},
   "outputs": [
    {
     "data": {
      "application/vnd.microsoft.datawrangler.viewer.v0+json": {
       "columns": [
        {
         "name": "UniqueCarrier",
         "rawType": "object",
         "type": "string"
        },
        {
         "name": "Total_flights",
         "rawType": "int64",
         "type": "integer"
        },
        {
         "name": "Delayed_flights",
         "rawType": "int64",
         "type": "integer"
        },
        {
         "name": "pct_delays",
         "rawType": "float64",
         "type": "float"
        }
       ],
       "conversionMethod": "pd.DataFrame",
       "ref": "01be958e-07b0-47d1-899e-e075e4877b8d",
       "rows": [
        [
         "EV",
         "3930",
         "1082",
         "0.2753"
        ],
        [
         "AS",
         "2222",
         "541",
         "0.2435"
        ],
        [
         "FL",
         "3039",
         "736",
         "0.2422"
        ],
        [
         "YV",
         "2128",
         "478",
         "0.2246"
        ],
        [
         "B6",
         "1838",
         "393",
         "0.2138"
        ]
       ],
       "shape": {
        "columns": 3,
        "rows": 5
       }
      },
      "text/html": [
       "<div>\n",
       "<style scoped>\n",
       "    .dataframe tbody tr th:only-of-type {\n",
       "        vertical-align: middle;\n",
       "    }\n",
       "\n",
       "    .dataframe tbody tr th {\n",
       "        vertical-align: top;\n",
       "    }\n",
       "\n",
       "    .dataframe thead th {\n",
       "        text-align: right;\n",
       "    }\n",
       "</style>\n",
       "<table border=\"1\" class=\"dataframe\">\n",
       "  <thead>\n",
       "    <tr style=\"text-align: right;\">\n",
       "      <th></th>\n",
       "      <th>Total_flights</th>\n",
       "      <th>Delayed_flights</th>\n",
       "      <th>pct_delays</th>\n",
       "    </tr>\n",
       "    <tr>\n",
       "      <th>UniqueCarrier</th>\n",
       "      <th></th>\n",
       "      <th></th>\n",
       "      <th></th>\n",
       "    </tr>\n",
       "  </thead>\n",
       "  <tbody>\n",
       "    <tr>\n",
       "      <th>EV</th>\n",
       "      <td>3930</td>\n",
       "      <td>1082</td>\n",
       "      <td>0.2753</td>\n",
       "    </tr>\n",
       "    <tr>\n",
       "      <th>AS</th>\n",
       "      <td>2222</td>\n",
       "      <td>541</td>\n",
       "      <td>0.2435</td>\n",
       "    </tr>\n",
       "    <tr>\n",
       "      <th>FL</th>\n",
       "      <td>3039</td>\n",
       "      <td>736</td>\n",
       "      <td>0.2422</td>\n",
       "    </tr>\n",
       "    <tr>\n",
       "      <th>YV</th>\n",
       "      <td>2128</td>\n",
       "      <td>478</td>\n",
       "      <td>0.2246</td>\n",
       "    </tr>\n",
       "    <tr>\n",
       "      <th>B6</th>\n",
       "      <td>1838</td>\n",
       "      <td>393</td>\n",
       "      <td>0.2138</td>\n",
       "    </tr>\n",
       "  </tbody>\n",
       "</table>\n",
       "</div>"
      ],
      "text/plain": [
       "               Total_flights  Delayed_flights  pct_delays\n",
       "UniqueCarrier                                            \n",
       "EV                      3930             1082      0.2753\n",
       "AS                      2222              541      0.2435\n",
       "FL                      3039              736      0.2422\n",
       "YV                      2128              478      0.2246\n",
       "B6                      1838              393      0.2138"
      ]
     },
     "execution_count": 229,
     "metadata": {},
     "output_type": "execute_result"
    }
   ],
   "source": [
    "airlines_pct_delay.head()"
   ]
  },
  {
   "cell_type": "code",
   "execution_count": 230,
   "metadata": {},
   "outputs": [
    {
     "data": {
      "application/vnd.microsoft.datawrangler.viewer.v0+json": {
       "columns": [
        {
         "name": "index",
         "rawType": "int64",
         "type": "integer"
        },
        {
         "name": "Month",
         "rawType": "int64",
         "type": "integer"
        },
        {
         "name": "DayofMonth",
         "rawType": "int64",
         "type": "integer"
        },
        {
         "name": "DayOfWeek",
         "rawType": "int64",
         "type": "integer"
        },
        {
         "name": "DepTime",
         "rawType": "int64",
         "type": "integer"
        },
        {
         "name": "UniqueCarrier",
         "rawType": "object",
         "type": "string"
        },
        {
         "name": "Distance",
         "rawType": "int64",
         "type": "integer"
        },
        {
         "name": "dep_delayed_15",
         "rawType": "int64",
         "type": "integer"
        },
        {
         "name": "Airline_pct_delays",
         "rawType": "float64",
         "type": "float"
        }
       ],
       "conversionMethod": "pd.DataFrame",
       "ref": "b3e37b43-aafe-4d5c-b276-99815fa54cb8",
       "rows": [
        [
         "0",
         "8",
         "21",
         "7",
         "1934",
         "AA",
         "732",
         "0",
         "0.1879"
        ],
        [
         "1",
         "4",
         "20",
         "3",
         "1548",
         "US",
         "834",
         "0",
         "0.1674"
        ],
        [
         "2",
         "9",
         "2",
         "5",
         "1422",
         "XE",
         "416",
         "0",
         "0.1739"
        ],
        [
         "3",
         "11",
         "25",
         "6",
         "1015",
         "OO",
         "872",
         "0",
         "0.1728"
        ],
        [
         "4",
         "10",
         "7",
         "6",
         "1828",
         "WN",
         "423",
         "1",
         "0.2134"
        ]
       ],
       "shape": {
        "columns": 8,
        "rows": 5
       }
      },
      "text/html": [
       "<div>\n",
       "<style scoped>\n",
       "    .dataframe tbody tr th:only-of-type {\n",
       "        vertical-align: middle;\n",
       "    }\n",
       "\n",
       "    .dataframe tbody tr th {\n",
       "        vertical-align: top;\n",
       "    }\n",
       "\n",
       "    .dataframe thead th {\n",
       "        text-align: right;\n",
       "    }\n",
       "</style>\n",
       "<table border=\"1\" class=\"dataframe\">\n",
       "  <thead>\n",
       "    <tr style=\"text-align: right;\">\n",
       "      <th></th>\n",
       "      <th>Month</th>\n",
       "      <th>DayofMonth</th>\n",
       "      <th>DayOfWeek</th>\n",
       "      <th>DepTime</th>\n",
       "      <th>UniqueCarrier</th>\n",
       "      <th>Distance</th>\n",
       "      <th>dep_delayed_15</th>\n",
       "      <th>Airline_pct_delays</th>\n",
       "    </tr>\n",
       "  </thead>\n",
       "  <tbody>\n",
       "    <tr>\n",
       "      <th>0</th>\n",
       "      <td>8</td>\n",
       "      <td>21</td>\n",
       "      <td>7</td>\n",
       "      <td>1934</td>\n",
       "      <td>AA</td>\n",
       "      <td>732</td>\n",
       "      <td>0</td>\n",
       "      <td>0.1879</td>\n",
       "    </tr>\n",
       "    <tr>\n",
       "      <th>1</th>\n",
       "      <td>4</td>\n",
       "      <td>20</td>\n",
       "      <td>3</td>\n",
       "      <td>1548</td>\n",
       "      <td>US</td>\n",
       "      <td>834</td>\n",
       "      <td>0</td>\n",
       "      <td>0.1674</td>\n",
       "    </tr>\n",
       "    <tr>\n",
       "      <th>2</th>\n",
       "      <td>9</td>\n",
       "      <td>2</td>\n",
       "      <td>5</td>\n",
       "      <td>1422</td>\n",
       "      <td>XE</td>\n",
       "      <td>416</td>\n",
       "      <td>0</td>\n",
       "      <td>0.1739</td>\n",
       "    </tr>\n",
       "    <tr>\n",
       "      <th>3</th>\n",
       "      <td>11</td>\n",
       "      <td>25</td>\n",
       "      <td>6</td>\n",
       "      <td>1015</td>\n",
       "      <td>OO</td>\n",
       "      <td>872</td>\n",
       "      <td>0</td>\n",
       "      <td>0.1728</td>\n",
       "    </tr>\n",
       "    <tr>\n",
       "      <th>4</th>\n",
       "      <td>10</td>\n",
       "      <td>7</td>\n",
       "      <td>6</td>\n",
       "      <td>1828</td>\n",
       "      <td>WN</td>\n",
       "      <td>423</td>\n",
       "      <td>1</td>\n",
       "      <td>0.2134</td>\n",
       "    </tr>\n",
       "  </tbody>\n",
       "</table>\n",
       "</div>"
      ],
      "text/plain": [
       "   Month  DayofMonth  DayOfWeek  DepTime UniqueCarrier  Distance  \\\n",
       "0      8          21          7     1934            AA       732   \n",
       "1      4          20          3     1548            US       834   \n",
       "2      9           2          5     1422            XE       416   \n",
       "3     11          25          6     1015            OO       872   \n",
       "4     10           7          6     1828            WN       423   \n",
       "\n",
       "   dep_delayed_15  Airline_pct_delays  \n",
       "0               0              0.1879  \n",
       "1               0              0.1674  \n",
       "2               0              0.1739  \n",
       "3               0              0.1728  \n",
       "4               1              0.2134  "
      ]
     },
     "execution_count": 230,
     "metadata": {},
     "output_type": "execute_result"
    }
   ],
   "source": [
    "df['Airline_pct_delays'] = df['UniqueCarrier'].map(airlines_pct_delay['pct_delays'])\n",
    "df.head()"
   ]
  },
  {
   "cell_type": "markdown",
   "metadata": {},
   "source": [
    "Elimino la columna UniqueCarrier y coloco el target a la derecha del todo"
   ]
  },
  {
   "cell_type": "code",
   "execution_count": 231,
   "metadata": {},
   "outputs": [
    {
     "data": {
      "application/vnd.microsoft.datawrangler.viewer.v0+json": {
       "columns": [
        {
         "name": "index",
         "rawType": "int64",
         "type": "integer"
        },
        {
         "name": "Month",
         "rawType": "int64",
         "type": "integer"
        },
        {
         "name": "DayofMonth",
         "rawType": "int64",
         "type": "integer"
        },
        {
         "name": "DayOfWeek",
         "rawType": "int64",
         "type": "integer"
        },
        {
         "name": "DepTime",
         "rawType": "int64",
         "type": "integer"
        },
        {
         "name": "Distance",
         "rawType": "int64",
         "type": "integer"
        },
        {
         "name": "Airline_pct_delays",
         "rawType": "float64",
         "type": "float"
        },
        {
         "name": "dep_delayed_15",
         "rawType": "int64",
         "type": "integer"
        }
       ],
       "conversionMethod": "pd.DataFrame",
       "ref": "646a6b42-b8b8-48cb-9a20-762aba5d548c",
       "rows": [
        [
         "0",
         "8",
         "21",
         "7",
         "1934",
         "732",
         "0.1879",
         "0"
        ],
        [
         "1",
         "4",
         "20",
         "3",
         "1548",
         "834",
         "0.1674",
         "0"
        ],
        [
         "2",
         "9",
         "2",
         "5",
         "1422",
         "416",
         "0.1739",
         "0"
        ],
        [
         "3",
         "11",
         "25",
         "6",
         "1015",
         "872",
         "0.1728",
         "0"
        ],
        [
         "4",
         "10",
         "7",
         "6",
         "1828",
         "423",
         "0.2134",
         "1"
        ]
       ],
       "shape": {
        "columns": 7,
        "rows": 5
       }
      },
      "text/html": [
       "<div>\n",
       "<style scoped>\n",
       "    .dataframe tbody tr th:only-of-type {\n",
       "        vertical-align: middle;\n",
       "    }\n",
       "\n",
       "    .dataframe tbody tr th {\n",
       "        vertical-align: top;\n",
       "    }\n",
       "\n",
       "    .dataframe thead th {\n",
       "        text-align: right;\n",
       "    }\n",
       "</style>\n",
       "<table border=\"1\" class=\"dataframe\">\n",
       "  <thead>\n",
       "    <tr style=\"text-align: right;\">\n",
       "      <th></th>\n",
       "      <th>Month</th>\n",
       "      <th>DayofMonth</th>\n",
       "      <th>DayOfWeek</th>\n",
       "      <th>DepTime</th>\n",
       "      <th>Distance</th>\n",
       "      <th>Airline_pct_delays</th>\n",
       "      <th>dep_delayed_15</th>\n",
       "    </tr>\n",
       "  </thead>\n",
       "  <tbody>\n",
       "    <tr>\n",
       "      <th>0</th>\n",
       "      <td>8</td>\n",
       "      <td>21</td>\n",
       "      <td>7</td>\n",
       "      <td>1934</td>\n",
       "      <td>732</td>\n",
       "      <td>0.1879</td>\n",
       "      <td>0</td>\n",
       "    </tr>\n",
       "    <tr>\n",
       "      <th>1</th>\n",
       "      <td>4</td>\n",
       "      <td>20</td>\n",
       "      <td>3</td>\n",
       "      <td>1548</td>\n",
       "      <td>834</td>\n",
       "      <td>0.1674</td>\n",
       "      <td>0</td>\n",
       "    </tr>\n",
       "    <tr>\n",
       "      <th>2</th>\n",
       "      <td>9</td>\n",
       "      <td>2</td>\n",
       "      <td>5</td>\n",
       "      <td>1422</td>\n",
       "      <td>416</td>\n",
       "      <td>0.1739</td>\n",
       "      <td>0</td>\n",
       "    </tr>\n",
       "    <tr>\n",
       "      <th>3</th>\n",
       "      <td>11</td>\n",
       "      <td>25</td>\n",
       "      <td>6</td>\n",
       "      <td>1015</td>\n",
       "      <td>872</td>\n",
       "      <td>0.1728</td>\n",
       "      <td>0</td>\n",
       "    </tr>\n",
       "    <tr>\n",
       "      <th>4</th>\n",
       "      <td>10</td>\n",
       "      <td>7</td>\n",
       "      <td>6</td>\n",
       "      <td>1828</td>\n",
       "      <td>423</td>\n",
       "      <td>0.2134</td>\n",
       "      <td>1</td>\n",
       "    </tr>\n",
       "  </tbody>\n",
       "</table>\n",
       "</div>"
      ],
      "text/plain": [
       "   Month  DayofMonth  DayOfWeek  DepTime  Distance  Airline_pct_delays  \\\n",
       "0      8          21          7     1934       732              0.1879   \n",
       "1      4          20          3     1548       834              0.1674   \n",
       "2      9           2          5     1422       416              0.1739   \n",
       "3     11          25          6     1015       872              0.1728   \n",
       "4     10           7          6     1828       423              0.2134   \n",
       "\n",
       "   dep_delayed_15  \n",
       "0               0  \n",
       "1               0  \n",
       "2               0  \n",
       "3               0  \n",
       "4               1  "
      ]
     },
     "execution_count": 231,
     "metadata": {},
     "output_type": "execute_result"
    }
   ],
   "source": [
    "df.drop(columns = 'UniqueCarrier', inplace = True)\n",
    "df = df[[col for col in df.columns if col != 'dep_delayed_15'] + ['dep_delayed_15']]\n",
    "df.head()"
   ]
  },
  {
   "cell_type": "markdown",
   "metadata": {},
   "source": [
    "Con el df ya preparado, divido en X e Y y en train y test y entreno el modelo"
   ]
  },
  {
   "cell_type": "code",
   "execution_count": 232,
   "metadata": {},
   "outputs": [],
   "source": [
    "X = df.drop(columns = 'dep_delayed_15')\n",
    "y = df['dep_delayed_15']\n",
    "\n",
    "# Dividir los datos\n",
    "X_train, X_test, y_train, y_test = train_test_split(X, y, test_size=0.25, random_state=42)"
   ]
  },
  {
   "cell_type": "code",
   "execution_count": 233,
   "metadata": {},
   "outputs": [
    {
     "name": "stdout",
     "output_type": "stream",
     "text": [
      "Best Parameters: {'classifier__n_estimators': 150, 'classifier__max_depth': 5, 'classifier__learning_rate': 0.08, 'classifier': XGBClassifier(base_score=None, booster=None, callbacks=None,\n",
      "              colsample_bylevel=None, colsample_bynode=None,\n",
      "              colsample_bytree=None, device=None, early_stopping_rounds=None,\n",
      "              enable_categorical=False, eval_metric=None, feature_types=None,\n",
      "              gamma=None, grow_policy=None, importance_type=None,\n",
      "              interaction_constraints=None, learning_rate=None, max_bin=None,\n",
      "              max_cat_threshold=None, max_cat_to_onehot=None,\n",
      "              max_delta_step=None, max_depth=None, max_leaves=None,\n",
      "              min_child_weight=None, missing=nan, monotone_constraints=None,\n",
      "              multi_strategy=None, n_estimators=None, n_jobs=None,\n",
      "              num_parallel_tree=None, random_state=None, ...)}\n",
      "Best Model: Pipeline(steps=[('classifier',\n",
      "                 XGBClassifier(base_score=None, booster=None, callbacks=None,\n",
      "                               colsample_bylevel=None, colsample_bynode=None,\n",
      "                               colsample_bytree=None, device=None,\n",
      "                               early_stopping_rounds=None,\n",
      "                               enable_categorical=False, eval_metric=None,\n",
      "                               feature_types=None, gamma=None, grow_policy=None,\n",
      "                               importance_type=None,\n",
      "                               interaction_constraints=None, learning_rate=0.08,\n",
      "                               max_bin=None, max_cat_threshold=None,\n",
      "                               max_cat_to_onehot=None, max_delta_step=None,\n",
      "                               max_depth=5, max_leaves=None,\n",
      "                               min_child_weight=None, missing=nan,\n",
      "                               monotone_constraints=None, multi_strategy=None,\n",
      "                               n_estimators=150, n_jobs=None,\n",
      "                               num_parallel_tree=None, random_state=None, ...))])\n",
      "ROC AUC (Train): 0.758\n",
      "ROC AUC (Test): 0.732\n"
     ]
    }
   ],
   "source": [
    "# Crear el pipeline con XGBClassifier\n",
    "pipe = Pipeline(steps=[\n",
    "    ('classifier', xgboost.XGBClassifier(use_label_encoder=False, eval_metric='logloss'))\n",
    "])\n",
    "\n",
    "# Definir el espacio de búsqueda para XGBClassifier\n",
    "xgboost_param = {\n",
    "    'classifier': [xgboost.XGBClassifier()],\n",
    "    'classifier__n_estimators': [100, 125, 150],  # Número de árboles\n",
    "    'classifier__learning_rate': [0.01, 0.05, 0.08],  # Tasa de aprendizaje\n",
    "    'classifier__max_depth': [4, 5, 6]  # Profundidad máxima\n",
    "}\n",
    "\n",
    "# Definir el espacio de búsqueda para RandomForestClassifier\n",
    "random_forest_params = {\n",
    "    'classifier': [RandomForestClassifier()],\n",
    "    \"classifier__n_estimators\": [100, 200],  # Número de árboles\n",
    "    'classifier__max_depth': [5, 7]  # Profundidad máxima\n",
    "}\n",
    "\n",
    "# Combinar ambos espacios de búsqueda\n",
    "search_space = [xgboost_param, random_forest_params]\n",
    "\n",
    "# Configurar RandomizedSearchCV con ROC AUC\n",
    "clf = RandomizedSearchCV(\n",
    "    estimator=pipe,\n",
    "    param_distributions=search_space,\n",
    "    n_iter=10,\n",
    "    scoring='roc_auc',  # Cambiamos la métrica a ROC AUC\n",
    "    n_jobs=-1,\n",
    "    random_state=42\n",
    ")\n",
    "\n",
    "# Entrenar el modelo\n",
    "clf.fit(X_train, y_train)\n",
    "\n",
    "# Mostrar los mejores parámetros y modelo\n",
    "print(\"Best Parameters:\", clf.best_params_)\n",
    "print(\"Best Model:\", clf.best_estimator_)\n",
    "\n",
    "# Evaluar en el conjunto de entrenamiento\n",
    "y_pred_proba_train = clf.best_estimator_.predict_proba(X_train)[:, 1]  # Probabilidades de la clase positiva\n",
    "roc_auc_train = round(roc_auc_score(y_train, y_pred_proba_train), 3)\n",
    "print(\"ROC AUC (Train):\", roc_auc_train)\n",
    "\n",
    "# Evaluar en el conjunto de prueba\n",
    "y_pred_proba_test = clf.best_estimator_.predict_proba(X_test)[:, 1]\n",
    "roc_auc_test = round(roc_auc_score(y_test, y_pred_proba_test), 3)\n",
    "print(\"ROC AUC (Test):\", roc_auc_test)"
   ]
  },
  {
   "cell_type": "code",
   "execution_count": 234,
   "metadata": {},
   "outputs": [],
   "source": [
    "model_1 = clf.best_estimator_.fit(X, y)"
   ]
  },
  {
   "cell_type": "markdown",
   "metadata": {},
   "source": [
    "Ejecuto el modelo 1 con los datos de submission"
   ]
  },
  {
   "cell_type": "code",
   "execution_count": 235,
   "metadata": {},
   "outputs": [
    {
     "data": {
      "application/vnd.microsoft.datawrangler.viewer.v0+json": {
       "columns": [
        {
         "name": "index",
         "rawType": "int64",
         "type": "integer"
        },
        {
         "name": "id",
         "rawType": "int64",
         "type": "integer"
        },
        {
         "name": "dep_delayed_15min",
         "rawType": "float64",
         "type": "float"
        }
       ],
       "conversionMethod": "pd.DataFrame",
       "ref": "5667f5c7-eb18-4b73-82e7-5aae78407f76",
       "rows": [
        [
         "0",
         "0",
         "0.081"
        ],
        [
         "1",
         "1",
         "0.387"
        ],
        [
         "2",
         "2",
         "0.069"
        ],
        [
         "3",
         "3",
         "0.177"
        ],
        [
         "4",
         "4",
         "0.732"
        ]
       ],
       "shape": {
        "columns": 2,
        "rows": 5
       }
      },
      "text/html": [
       "<div>\n",
       "<style scoped>\n",
       "    .dataframe tbody tr th:only-of-type {\n",
       "        vertical-align: middle;\n",
       "    }\n",
       "\n",
       "    .dataframe tbody tr th {\n",
       "        vertical-align: top;\n",
       "    }\n",
       "\n",
       "    .dataframe thead th {\n",
       "        text-align: right;\n",
       "    }\n",
       "</style>\n",
       "<table border=\"1\" class=\"dataframe\">\n",
       "  <thead>\n",
       "    <tr style=\"text-align: right;\">\n",
       "      <th></th>\n",
       "      <th>id</th>\n",
       "      <th>dep_delayed_15min</th>\n",
       "    </tr>\n",
       "  </thead>\n",
       "  <tbody>\n",
       "    <tr>\n",
       "      <th>0</th>\n",
       "      <td>0</td>\n",
       "      <td>0.081</td>\n",
       "    </tr>\n",
       "    <tr>\n",
       "      <th>1</th>\n",
       "      <td>1</td>\n",
       "      <td>0.387</td>\n",
       "    </tr>\n",
       "    <tr>\n",
       "      <th>2</th>\n",
       "      <td>2</td>\n",
       "      <td>0.069</td>\n",
       "    </tr>\n",
       "    <tr>\n",
       "      <th>3</th>\n",
       "      <td>3</td>\n",
       "      <td>0.177</td>\n",
       "    </tr>\n",
       "    <tr>\n",
       "      <th>4</th>\n",
       "      <td>4</td>\n",
       "      <td>0.732</td>\n",
       "    </tr>\n",
       "  </tbody>\n",
       "</table>\n",
       "</div>"
      ],
      "text/plain": [
       "   id  dep_delayed_15min\n",
       "0   0              0.081\n",
       "1   1              0.387\n",
       "2   2              0.069\n",
       "3   3              0.177\n",
       "4   4              0.732"
      ]
     },
     "execution_count": 235,
     "metadata": {},
     "output_type": "execute_result"
    }
   ],
   "source": [
    "# para comprobar el formato en el que tiene que ir el submit:\n",
    "df_submission_sample = pd.read_csv('./data/sample_submission.csv')\n",
    "df_submission_sample.head()"
   ]
  },
  {
   "cell_type": "code",
   "execution_count": 236,
   "metadata": {},
   "outputs": [
    {
     "data": {
      "application/vnd.microsoft.datawrangler.viewer.v0+json": {
       "columns": [
        {
         "name": "index",
         "rawType": "int64",
         "type": "integer"
        },
        {
         "name": "Month",
         "rawType": "object",
         "type": "string"
        },
        {
         "name": "DayofMonth",
         "rawType": "object",
         "type": "string"
        },
        {
         "name": "DayOfWeek",
         "rawType": "object",
         "type": "string"
        },
        {
         "name": "DepTime",
         "rawType": "int64",
         "type": "integer"
        },
        {
         "name": "UniqueCarrier",
         "rawType": "object",
         "type": "string"
        },
        {
         "name": "Origin",
         "rawType": "object",
         "type": "string"
        },
        {
         "name": "Dest",
         "rawType": "object",
         "type": "string"
        },
        {
         "name": "Distance",
         "rawType": "int64",
         "type": "integer"
        }
       ],
       "conversionMethod": "pd.DataFrame",
       "ref": "4705fdfc-f9f6-480b-bf5d-259aefa86512",
       "rows": [
        [
         "0",
         "c-7",
         "c-25",
         "c-3",
         "615",
         "YV",
         "MRY",
         "PHX",
         "598"
        ],
        [
         "1",
         "c-4",
         "c-17",
         "c-2",
         "739",
         "WN",
         "LAS",
         "HOU",
         "1235"
        ],
        [
         "2",
         "c-12",
         "c-2",
         "c-7",
         "651",
         "MQ",
         "GSP",
         "ORD",
         "577"
        ],
        [
         "3",
         "c-3",
         "c-25",
         "c-7",
         "1614",
         "WN",
         "BWI",
         "MHT",
         "377"
        ],
        [
         "4",
         "c-6",
         "c-6",
         "c-3",
         "1505",
         "UA",
         "ORD",
         "STL",
         "258"
        ]
       ],
       "shape": {
        "columns": 8,
        "rows": 5
       }
      },
      "text/html": [
       "<div>\n",
       "<style scoped>\n",
       "    .dataframe tbody tr th:only-of-type {\n",
       "        vertical-align: middle;\n",
       "    }\n",
       "\n",
       "    .dataframe tbody tr th {\n",
       "        vertical-align: top;\n",
       "    }\n",
       "\n",
       "    .dataframe thead th {\n",
       "        text-align: right;\n",
       "    }\n",
       "</style>\n",
       "<table border=\"1\" class=\"dataframe\">\n",
       "  <thead>\n",
       "    <tr style=\"text-align: right;\">\n",
       "      <th></th>\n",
       "      <th>Month</th>\n",
       "      <th>DayofMonth</th>\n",
       "      <th>DayOfWeek</th>\n",
       "      <th>DepTime</th>\n",
       "      <th>UniqueCarrier</th>\n",
       "      <th>Origin</th>\n",
       "      <th>Dest</th>\n",
       "      <th>Distance</th>\n",
       "    </tr>\n",
       "  </thead>\n",
       "  <tbody>\n",
       "    <tr>\n",
       "      <th>0</th>\n",
       "      <td>c-7</td>\n",
       "      <td>c-25</td>\n",
       "      <td>c-3</td>\n",
       "      <td>615</td>\n",
       "      <td>YV</td>\n",
       "      <td>MRY</td>\n",
       "      <td>PHX</td>\n",
       "      <td>598</td>\n",
       "    </tr>\n",
       "    <tr>\n",
       "      <th>1</th>\n",
       "      <td>c-4</td>\n",
       "      <td>c-17</td>\n",
       "      <td>c-2</td>\n",
       "      <td>739</td>\n",
       "      <td>WN</td>\n",
       "      <td>LAS</td>\n",
       "      <td>HOU</td>\n",
       "      <td>1235</td>\n",
       "    </tr>\n",
       "    <tr>\n",
       "      <th>2</th>\n",
       "      <td>c-12</td>\n",
       "      <td>c-2</td>\n",
       "      <td>c-7</td>\n",
       "      <td>651</td>\n",
       "      <td>MQ</td>\n",
       "      <td>GSP</td>\n",
       "      <td>ORD</td>\n",
       "      <td>577</td>\n",
       "    </tr>\n",
       "    <tr>\n",
       "      <th>3</th>\n",
       "      <td>c-3</td>\n",
       "      <td>c-25</td>\n",
       "      <td>c-7</td>\n",
       "      <td>1614</td>\n",
       "      <td>WN</td>\n",
       "      <td>BWI</td>\n",
       "      <td>MHT</td>\n",
       "      <td>377</td>\n",
       "    </tr>\n",
       "    <tr>\n",
       "      <th>4</th>\n",
       "      <td>c-6</td>\n",
       "      <td>c-6</td>\n",
       "      <td>c-3</td>\n",
       "      <td>1505</td>\n",
       "      <td>UA</td>\n",
       "      <td>ORD</td>\n",
       "      <td>STL</td>\n",
       "      <td>258</td>\n",
       "    </tr>\n",
       "  </tbody>\n",
       "</table>\n",
       "</div>"
      ],
      "text/plain": [
       "  Month DayofMonth DayOfWeek  DepTime UniqueCarrier Origin Dest  Distance\n",
       "0   c-7       c-25       c-3      615            YV    MRY  PHX       598\n",
       "1   c-4       c-17       c-2      739            WN    LAS  HOU      1235\n",
       "2  c-12        c-2       c-7      651            MQ    GSP  ORD       577\n",
       "3   c-3       c-25       c-7     1614            WN    BWI  MHT       377\n",
       "4   c-6        c-6       c-3     1505            UA    ORD  STL       258"
      ]
     },
     "execution_count": 236,
     "metadata": {},
     "output_type": "execute_result"
    }
   ],
   "source": [
    "df_test = pd.read_csv('./data/flight_delays_test.csv')\n",
    "df_test.head()"
   ]
  },
  {
   "cell_type": "markdown",
   "metadata": {},
   "source": [
    "A continuación hay que aplicar al dataframe de test exactamente las mismas transformaciones que al df de train"
   ]
  },
  {
   "cell_type": "code",
   "execution_count": 237,
   "metadata": {},
   "outputs": [
    {
     "data": {
      "application/vnd.microsoft.datawrangler.viewer.v0+json": {
       "columns": [
        {
         "name": "index",
         "rawType": "int64",
         "type": "integer"
        },
        {
         "name": "Month",
         "rawType": "int64",
         "type": "integer"
        },
        {
         "name": "DayofMonth",
         "rawType": "int64",
         "type": "integer"
        },
        {
         "name": "DayOfWeek",
         "rawType": "int64",
         "type": "integer"
        },
        {
         "name": "DepTime",
         "rawType": "int64",
         "type": "integer"
        },
        {
         "name": "Distance",
         "rawType": "int64",
         "type": "integer"
        },
        {
         "name": "Airline_pct_delays",
         "rawType": "float64",
         "type": "float"
        }
       ],
       "conversionMethod": "pd.DataFrame",
       "ref": "857bc3ed-1e9d-48f0-9ee8-ce7e84a5b010",
       "rows": [
        [
         "0",
         "7",
         "25",
         "3",
         "615",
         "598",
         "0.2246"
        ],
        [
         "1",
         "4",
         "17",
         "2",
         "739",
         "1235",
         "0.2134"
        ],
        [
         "2",
         "12",
         "2",
         "7",
         "651",
         "577",
         "0.1945"
        ],
        [
         "3",
         "3",
         "25",
         "7",
         "1614",
         "377",
         "0.2134"
        ],
        [
         "4",
         "6",
         "6",
         "3",
         "1505",
         "258",
         "0.1923"
        ]
       ],
       "shape": {
        "columns": 6,
        "rows": 5
       }
      },
      "text/html": [
       "<div>\n",
       "<style scoped>\n",
       "    .dataframe tbody tr th:only-of-type {\n",
       "        vertical-align: middle;\n",
       "    }\n",
       "\n",
       "    .dataframe tbody tr th {\n",
       "        vertical-align: top;\n",
       "    }\n",
       "\n",
       "    .dataframe thead th {\n",
       "        text-align: right;\n",
       "    }\n",
       "</style>\n",
       "<table border=\"1\" class=\"dataframe\">\n",
       "  <thead>\n",
       "    <tr style=\"text-align: right;\">\n",
       "      <th></th>\n",
       "      <th>Month</th>\n",
       "      <th>DayofMonth</th>\n",
       "      <th>DayOfWeek</th>\n",
       "      <th>DepTime</th>\n",
       "      <th>Distance</th>\n",
       "      <th>Airline_pct_delays</th>\n",
       "    </tr>\n",
       "  </thead>\n",
       "  <tbody>\n",
       "    <tr>\n",
       "      <th>0</th>\n",
       "      <td>7</td>\n",
       "      <td>25</td>\n",
       "      <td>3</td>\n",
       "      <td>615</td>\n",
       "      <td>598</td>\n",
       "      <td>0.2246</td>\n",
       "    </tr>\n",
       "    <tr>\n",
       "      <th>1</th>\n",
       "      <td>4</td>\n",
       "      <td>17</td>\n",
       "      <td>2</td>\n",
       "      <td>739</td>\n",
       "      <td>1235</td>\n",
       "      <td>0.2134</td>\n",
       "    </tr>\n",
       "    <tr>\n",
       "      <th>2</th>\n",
       "      <td>12</td>\n",
       "      <td>2</td>\n",
       "      <td>7</td>\n",
       "      <td>651</td>\n",
       "      <td>577</td>\n",
       "      <td>0.1945</td>\n",
       "    </tr>\n",
       "    <tr>\n",
       "      <th>3</th>\n",
       "      <td>3</td>\n",
       "      <td>25</td>\n",
       "      <td>7</td>\n",
       "      <td>1614</td>\n",
       "      <td>377</td>\n",
       "      <td>0.2134</td>\n",
       "    </tr>\n",
       "    <tr>\n",
       "      <th>4</th>\n",
       "      <td>6</td>\n",
       "      <td>6</td>\n",
       "      <td>3</td>\n",
       "      <td>1505</td>\n",
       "      <td>258</td>\n",
       "      <td>0.1923</td>\n",
       "    </tr>\n",
       "  </tbody>\n",
       "</table>\n",
       "</div>"
      ],
      "text/plain": [
       "   Month  DayofMonth  DayOfWeek  DepTime  Distance  Airline_pct_delays\n",
       "0      7          25          3      615       598              0.2246\n",
       "1      4          17          2      739      1235              0.2134\n",
       "2     12           2          7      651       577              0.1945\n",
       "3      3          25          7     1614       377              0.2134\n",
       "4      6           6          3     1505       258              0.1923"
      ]
     },
     "execution_count": 237,
     "metadata": {},
     "output_type": "execute_result"
    }
   ],
   "source": [
    "# Elimino las letras c- de month, dayofmonth y dayofweek y lo paso a numerico\n",
    "df_test['Month'] = df_test['Month'].str.split('-').str[1].astype(int)\n",
    "df_test['DayofMonth'] = df_test['DayofMonth'].str.split('-').str[1].astype(int)\n",
    "df_test['DayOfWeek'] = df_test['DayOfWeek'].str.split('-').str[1].astype(int)\n",
    "df_test.rename(columns = {'DayOfWeek':'DayofWeek'})\n",
    "\n",
    "# Sustituir aerolínea por su pct de retraso\n",
    "df_test['Airline_pct_delays'] = df_test['UniqueCarrier'].map(airlines_pct_delay['pct_delays'])\n",
    "df_test.drop(columns = 'UniqueCarrier', inplace = True)\n",
    "\n",
    "#Eliminar origin y destinos\n",
    "df_test.drop(columns = ['Origin', 'Dest'], inplace = True)\n",
    "\n",
    "df_test.head()"
   ]
  },
  {
   "cell_type": "code",
   "execution_count": 238,
   "metadata": {},
   "outputs": [],
   "source": [
    "X_test_m1 = df_test\n",
    "X_test_m1 = X_test_m1[X_train.columns]  # Asegura que las columnas estén en el mismo orden"
   ]
  },
  {
   "cell_type": "code",
   "execution_count": 239,
   "metadata": {},
   "outputs": [],
   "source": [
    "predictions_m1 = model_1.predict_proba(X_test_m1)"
   ]
  },
  {
   "cell_type": "code",
   "execution_count": 241,
   "metadata": {},
   "outputs": [
    {
     "data": {
      "application/vnd.microsoft.datawrangler.viewer.v0+json": {
       "columns": [
        {
         "name": "index",
         "rawType": "int64",
         "type": "integer"
        },
        {
         "name": "id",
         "rawType": "int64",
         "type": "integer"
        },
        {
         "name": "dep_delayed_15min",
         "rawType": "float32",
         "type": "float"
        }
       ],
       "conversionMethod": "pd.DataFrame",
       "ref": "61352dec-4443-4ede-8dd5-2bfa4cb2942a",
       "rows": [
        [
         "0",
         "0",
         "0.07840593"
        ],
        [
         "1",
         "1",
         "0.036165383"
        ],
        [
         "2",
         "2",
         "0.05513248"
        ],
        [
         "3",
         "3",
         "0.2838954"
        ],
        [
         "4",
         "4",
         "0.16744499"
        ],
        [
         "5",
         "5",
         "0.08801765"
        ],
        [
         "6",
         "6",
         "0.049054414"
        ],
        [
         "7",
         "7",
         "0.15061678"
        ],
        [
         "8",
         "8",
         "0.15097494"
        ],
        [
         "9",
         "9",
         "0.28312904"
        ],
        [
         "10",
         "10",
         "0.25661638"
        ],
        [
         "11",
         "11",
         "0.19541393"
        ],
        [
         "12",
         "12",
         "0.11656569"
        ],
        [
         "13",
         "13",
         "0.29369155"
        ],
        [
         "14",
         "14",
         "0.058858305"
        ],
        [
         "15",
         "15",
         "0.26266652"
        ],
        [
         "16",
         "16",
         "0.06591887"
        ],
        [
         "17",
         "17",
         "0.29633212"
        ],
        [
         "18",
         "18",
         "0.4357321"
        ],
        [
         "19",
         "19",
         "0.006223583"
        ],
        [
         "20",
         "20",
         "0.26772013"
        ],
        [
         "21",
         "21",
         "0.11639957"
        ],
        [
         "22",
         "22",
         "0.2807922"
        ],
        [
         "23",
         "23",
         "0.14750388"
        ],
        [
         "24",
         "24",
         "0.28906643"
        ],
        [
         "25",
         "25",
         "0.28113806"
        ],
        [
         "26",
         "26",
         "0.0054211323"
        ],
        [
         "27",
         "27",
         "0.032074485"
        ],
        [
         "28",
         "28",
         "0.20830825"
        ],
        [
         "29",
         "29",
         "0.15516102"
        ],
        [
         "30",
         "30",
         "0.14070109"
        ],
        [
         "31",
         "31",
         "0.42950583"
        ],
        [
         "32",
         "32",
         "0.07358858"
        ],
        [
         "33",
         "33",
         "0.31726342"
        ],
        [
         "34",
         "34",
         "0.54010683"
        ],
        [
         "35",
         "35",
         "0.2839461"
        ],
        [
         "36",
         "36",
         "0.28268623"
        ],
        [
         "37",
         "37",
         "0.15749694"
        ],
        [
         "38",
         "38",
         "0.096143045"
        ],
        [
         "39",
         "39",
         "0.18621027"
        ],
        [
         "40",
         "40",
         "0.19758609"
        ],
        [
         "41",
         "41",
         "0.18958959"
        ],
        [
         "42",
         "42",
         "0.15259561"
        ],
        [
         "43",
         "43",
         "0.28790572"
        ],
        [
         "44",
         "44",
         "0.13439108"
        ],
        [
         "45",
         "45",
         "0.47488952"
        ],
        [
         "46",
         "46",
         "0.011845895"
        ],
        [
         "47",
         "47",
         "0.18765514"
        ],
        [
         "48",
         "48",
         "0.48780653"
        ],
        [
         "49",
         "49",
         "0.083462454"
        ]
       ],
       "shape": {
        "columns": 2,
        "rows": 100000
       }
      },
      "text/html": [
       "<div>\n",
       "<style scoped>\n",
       "    .dataframe tbody tr th:only-of-type {\n",
       "        vertical-align: middle;\n",
       "    }\n",
       "\n",
       "    .dataframe tbody tr th {\n",
       "        vertical-align: top;\n",
       "    }\n",
       "\n",
       "    .dataframe thead th {\n",
       "        text-align: right;\n",
       "    }\n",
       "</style>\n",
       "<table border=\"1\" class=\"dataframe\">\n",
       "  <thead>\n",
       "    <tr style=\"text-align: right;\">\n",
       "      <th></th>\n",
       "      <th>id</th>\n",
       "      <th>dep_delayed_15min</th>\n",
       "    </tr>\n",
       "  </thead>\n",
       "  <tbody>\n",
       "    <tr>\n",
       "      <th>0</th>\n",
       "      <td>0</td>\n",
       "      <td>0.078406</td>\n",
       "    </tr>\n",
       "    <tr>\n",
       "      <th>1</th>\n",
       "      <td>1</td>\n",
       "      <td>0.036165</td>\n",
       "    </tr>\n",
       "    <tr>\n",
       "      <th>2</th>\n",
       "      <td>2</td>\n",
       "      <td>0.055132</td>\n",
       "    </tr>\n",
       "    <tr>\n",
       "      <th>3</th>\n",
       "      <td>3</td>\n",
       "      <td>0.283895</td>\n",
       "    </tr>\n",
       "    <tr>\n",
       "      <th>4</th>\n",
       "      <td>4</td>\n",
       "      <td>0.167445</td>\n",
       "    </tr>\n",
       "    <tr>\n",
       "      <th>...</th>\n",
       "      <td>...</td>\n",
       "      <td>...</td>\n",
       "    </tr>\n",
       "    <tr>\n",
       "      <th>99995</th>\n",
       "      <td>99995</td>\n",
       "      <td>0.053161</td>\n",
       "    </tr>\n",
       "    <tr>\n",
       "      <th>99996</th>\n",
       "      <td>99996</td>\n",
       "      <td>0.160854</td>\n",
       "    </tr>\n",
       "    <tr>\n",
       "      <th>99997</th>\n",
       "      <td>99997</td>\n",
       "      <td>0.153216</td>\n",
       "    </tr>\n",
       "    <tr>\n",
       "      <th>99998</th>\n",
       "      <td>99998</td>\n",
       "      <td>0.081721</td>\n",
       "    </tr>\n",
       "    <tr>\n",
       "      <th>99999</th>\n",
       "      <td>99999</td>\n",
       "      <td>0.091339</td>\n",
       "    </tr>\n",
       "  </tbody>\n",
       "</table>\n",
       "<p>100000 rows × 2 columns</p>\n",
       "</div>"
      ],
      "text/plain": [
       "          id  dep_delayed_15min\n",
       "0          0           0.078406\n",
       "1          1           0.036165\n",
       "2          2           0.055132\n",
       "3          3           0.283895\n",
       "4          4           0.167445\n",
       "...      ...                ...\n",
       "99995  99995           0.053161\n",
       "99996  99996           0.160854\n",
       "99997  99997           0.153216\n",
       "99998  99998           0.081721\n",
       "99999  99999           0.091339\n",
       "\n",
       "[100000 rows x 2 columns]"
      ]
     },
     "execution_count": 241,
     "metadata": {},
     "output_type": "execute_result"
    }
   ],
   "source": [
    "submission_m1 = pd.DataFrame({\n",
    "    'id': df_test.index,  # Columna de IDs\n",
    "    'dep_delayed_15min': predictions_m1[:, 1]  # Predicciones del modelo\n",
    "})\n",
    "submission_m1"
   ]
  },
  {
   "cell_type": "code",
   "execution_count": 242,
   "metadata": {},
   "outputs": [],
   "source": [
    "#submission_m1.to_csv('submission_m1.csv', sep = ',', index = False)"
   ]
  }
 ],
 "metadata": {
  "kernelspec": {
   "display_name": "Python 3",
   "language": "python",
   "name": "python3"
  },
  "language_info": {
   "codemirror_mode": {
    "name": "ipython",
    "version": 3
   },
   "file_extension": ".py",
   "mimetype": "text/x-python",
   "name": "python",
   "nbconvert_exporter": "python",
   "pygments_lexer": "ipython3",
   "version": "3.9.6"
  }
 },
 "nbformat": 4,
 "nbformat_minor": 2
}
